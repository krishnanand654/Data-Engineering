{
 "cells": [
  {
   "cell_type": "code",
   "execution_count": 1,
   "id": "666e7f87",
   "metadata": {},
   "outputs": [
    {
     "data": {
      "text/html": [
       "\n",
       "        <div>\n",
       "            <p><b>SparkContext</b></p>\n",
       "\n",
       "            <p><a href=\"http://10.0.2.15:4041\">Spark UI</a></p>\n",
       "\n",
       "            <dl>\n",
       "              <dt>Version</dt>\n",
       "                <dd><code>v2.4.8</code></dd>\n",
       "              <dt>Master</dt>\n",
       "                <dd><code>local[*]</code></dd>\n",
       "              <dt>AppName</dt>\n",
       "                <dd><code>PySparkShell</code></dd>\n",
       "            </dl>\n",
       "        </div>\n",
       "        "
      ],
      "text/plain": [
       "<SparkContext master=local[*] appName=PySparkShell>"
      ]
     },
     "execution_count": 1,
     "metadata": {},
     "output_type": "execute_result"
    }
   ],
   "source": [
    "sc"
   ]
  },
  {
   "cell_type": "code",
   "execution_count": 2,
   "id": "b167932c",
   "metadata": {},
   "outputs": [
    {
     "data": {
      "text/html": [
       "\n",
       "            <div>\n",
       "                <p><b>SparkSession - hive</b></p>\n",
       "                \n",
       "        <div>\n",
       "            <p><b>SparkContext</b></p>\n",
       "\n",
       "            <p><a href=\"http://10.0.2.15:4041\">Spark UI</a></p>\n",
       "\n",
       "            <dl>\n",
       "              <dt>Version</dt>\n",
       "                <dd><code>v2.4.8</code></dd>\n",
       "              <dt>Master</dt>\n",
       "                <dd><code>local[*]</code></dd>\n",
       "              <dt>AppName</dt>\n",
       "                <dd><code>PySparkShell</code></dd>\n",
       "            </dl>\n",
       "        </div>\n",
       "        \n",
       "            </div>\n",
       "        "
      ],
      "text/plain": [
       "<pyspark.sql.session.SparkSession at 0x7f725030a780>"
      ]
     },
     "execution_count": 2,
     "metadata": {},
     "output_type": "execute_result"
    }
   ],
   "source": [
    "spark"
   ]
  },
  {
   "cell_type": "markdown",
   "id": "41d8ef16",
   "metadata": {},
   "source": [
    "#### 1. Creating a new spark session Instance"
   ]
  },
  {
   "cell_type": "code",
   "execution_count": 3,
   "id": "b1afba72",
   "metadata": {},
   "outputs": [],
   "source": [
    "sc.stop()"
   ]
  },
  {
   "cell_type": "code",
   "execution_count": 4,
   "id": "708fe787",
   "metadata": {},
   "outputs": [],
   "source": [
    "from pyspark import SparkConf, SparkContext\n",
    "#setMaster()- Set Spark Content Manager\n",
    "config= SparkConf().setMaster(\"local[2]\").setAppName(\"RDDSession\")\n",
    "sc= SparkContext(conf=config)"
   ]
  },
  {
   "cell_type": "code",
   "execution_count": 5,
   "id": "84c5adf2",
   "metadata": {},
   "outputs": [
    {
     "data": {
      "text/html": [
       "\n",
       "        <div>\n",
       "            <p><b>SparkContext</b></p>\n",
       "\n",
       "            <p><a href=\"http://10.0.2.15:4041\">Spark UI</a></p>\n",
       "\n",
       "            <dl>\n",
       "              <dt>Version</dt>\n",
       "                <dd><code>v2.4.8</code></dd>\n",
       "              <dt>Master</dt>\n",
       "                <dd><code>local[2]</code></dd>\n",
       "              <dt>AppName</dt>\n",
       "                <dd><code>RDDSession</code></dd>\n",
       "            </dl>\n",
       "        </div>\n",
       "        "
      ],
      "text/plain": [
       "<SparkContext master=local[2] appName=RDDSession>"
      ]
     },
     "execution_count": 5,
     "metadata": {},
     "output_type": "execute_result"
    }
   ],
   "source": [
    "sc"
   ]
  },
  {
   "cell_type": "code",
   "execution_count": 6,
   "id": "26b90c10",
   "metadata": {},
   "outputs": [],
   "source": [
    "from pyspark.sql import SparkSession\n",
    "spark= SparkSession.builder.appName(\"SQlSession\").getOrCreate()"
   ]
  },
  {
   "cell_type": "code",
   "execution_count": 7,
   "id": "50658ebe",
   "metadata": {},
   "outputs": [
    {
     "data": {
      "text/html": [
       "\n",
       "            <div>\n",
       "                <p><b>SparkSession - hive</b></p>\n",
       "                \n",
       "        <div>\n",
       "            <p><b>SparkContext</b></p>\n",
       "\n",
       "            <p><a href=\"http://10.0.2.15:4041\">Spark UI</a></p>\n",
       "\n",
       "            <dl>\n",
       "              <dt>Version</dt>\n",
       "                <dd><code>v2.4.8</code></dd>\n",
       "              <dt>Master</dt>\n",
       "                <dd><code>local[2]</code></dd>\n",
       "              <dt>AppName</dt>\n",
       "                <dd><code>RDDSession</code></dd>\n",
       "            </dl>\n",
       "        </div>\n",
       "        \n",
       "            </div>\n",
       "        "
      ],
      "text/plain": [
       "<pyspark.sql.session.SparkSession at 0x7f7250297d68>"
      ]
     },
     "execution_count": 7,
     "metadata": {},
     "output_type": "execute_result"
    }
   ],
   "source": [
    "spark"
   ]
  },
  {
   "cell_type": "code",
   "execution_count": 8,
   "id": "0dea4dd5",
   "metadata": {},
   "outputs": [],
   "source": [
    "!hdfs dfs -mkdir /flights"
   ]
  },
  {
   "cell_type": "code",
   "execution_count": 9,
   "id": "964411ba",
   "metadata": {},
   "outputs": [
    {
     "name": "stdout",
     "output_type": "stream",
     "text": [
      "Found 4 items\n",
      "drwxr-xr-x   - hadoop supergroup          0 2024-09-02 09:18 /flights\n",
      "drwxr-xr-x   - hadoop supergroup          0 2022-11-21 15:25 /hbase\n",
      "drwxrwxrwx   - hadoop supergroup          0 2022-11-21 15:12 /tmp\n",
      "drwxr-xr-x   - hadoop supergroup          0 2022-11-21 15:11 /user\n"
     ]
    }
   ],
   "source": [
    "!hdfs dfs -ls /"
   ]
  },
  {
   "cell_type": "code",
   "execution_count": 10,
   "id": "30323aef",
   "metadata": {},
   "outputs": [],
   "source": [
    "!hdfs dfs -put /home/hadoop/Downloads/raw_flight_data.csv /flights"
   ]
  },
  {
   "cell_type": "code",
   "execution_count": 11,
   "id": "daa514ec",
   "metadata": {},
   "outputs": [],
   "source": [
    "flights_df=spark.read.csv(\"hdfs://localhost:9000/flights/raw_flight_data.csv\",header=True) #th e hdfs://localhost:9000 is understood hence can be removed"
   ]
  },
  {
   "cell_type": "code",
   "execution_count": 12,
   "id": "8a98ff3e",
   "metadata": {},
   "outputs": [
    {
     "data": {
      "text/plain": [
       "[Row(DayofMonth='19', DayOfWeek='5', Carrier='DL', OriginAirportID='11433', DestAirportID='13303', DepDelay='-3', ArrDelay='1'),\n",
       " Row(DayofMonth='19', DayOfWeek='5', Carrier='DL', OriginAirportID='14869', DestAirportID='12478', DepDelay='0', ArrDelay='-8'),\n",
       " Row(DayofMonth='19', DayOfWeek='5', Carrier='DL', OriginAirportID='14057', DestAirportID='14869', DepDelay='-4', ArrDelay='-15'),\n",
       " Row(DayofMonth='19', DayOfWeek='5', Carrier='DL', OriginAirportID='15016', DestAirportID='11433', DepDelay='28', ArrDelay='24'),\n",
       " Row(DayofMonth='19', DayOfWeek='5', Carrier='DL', OriginAirportID='11193', DestAirportID='12892', DepDelay='-6', ArrDelay='-11')]"
      ]
     },
     "execution_count": 12,
     "metadata": {},
     "output_type": "execute_result"
    }
   ],
   "source": [
    "flights_df.head(5)"
   ]
  },
  {
   "cell_type": "code",
   "execution_count": 13,
   "id": "17851d05",
   "metadata": {
    "scrolled": true
   },
   "outputs": [
    {
     "name": "stdout",
     "output_type": "stream",
     "text": [
      "+----------+---------+-------+---------------+-------------+--------+--------+\n",
      "|DayofMonth|DayOfWeek|Carrier|OriginAirportID|DestAirportID|DepDelay|ArrDelay|\n",
      "+----------+---------+-------+---------------+-------------+--------+--------+\n",
      "|        19|        5|     DL|          11433|        13303|      -3|       1|\n",
      "|        19|        5|     DL|          14869|        12478|       0|      -8|\n",
      "|        19|        5|     DL|          14057|        14869|      -4|     -15|\n",
      "|        19|        5|     DL|          15016|        11433|      28|      24|\n",
      "|        19|        5|     DL|          11193|        12892|      -6|     -11|\n",
      "|        19|        5|     DL|          10397|        15016|      -1|     -19|\n",
      "|        19|        5|     DL|          15016|        10397|       0|      -1|\n",
      "|        19|        5|     DL|          10397|        14869|      15|      24|\n",
      "|        19|        5|     DL|          10397|        10423|      33|      34|\n",
      "|        19|        5|     DL|          11278|        10397|     323|     322|\n",
      "|        19|        5|     DL|          14107|        13487|      -7|     -13|\n",
      "|        19|        5|     DL|          11433|        11298|      22|      41|\n",
      "|        19|        5|     DL|          11298|        11433|      40|      20|\n",
      "|        19|        5|     DL|          11433|        12892|      -2|      -7|\n",
      "|        19|        5|     DL|          10397|        12451|      71|      75|\n",
      "|        19|        5|     DL|          12451|        10397|      75|      57|\n",
      "|        19|        5|     DL|          12953|        10397|      -1|      10|\n",
      "|        19|        5|     DL|          11433|        12953|      -3|     -10|\n",
      "|        19|        5|     DL|          10397|        14771|      31|      38|\n",
      "|        19|        5|     DL|          13204|        10397|       8|      25|\n",
      "+----------+---------+-------+---------------+-------------+--------+--------+\n",
      "only showing top 20 rows\n",
      "\n"
     ]
    }
   ],
   "source": [
    "flights_df.show()  # Show data in a tabular format"
   ]
  },
  {
   "cell_type": "markdown",
   "id": "1f35d00d",
   "metadata": {},
   "source": [
    "select \n",
    "    \n",
    "    * To select specific column from DataFrame"
   ]
  },
  {
   "cell_type": "code",
   "execution_count": 14,
   "id": "fafc2c1b",
   "metadata": {},
   "outputs": [
    {
     "name": "stdout",
     "output_type": "stream",
     "text": [
      "+----------+-------+---------------+--------+\n",
      "|DayofMonth|Carrier|OriginAirportID|DepDelay|\n",
      "+----------+-------+---------------+--------+\n",
      "|        19|     DL|          11433|      -3|\n",
      "|        19|     DL|          14869|       0|\n",
      "|        19|     DL|          14057|      -4|\n",
      "|        19|     DL|          15016|      28|\n",
      "|        19|     DL|          11193|      -6|\n",
      "|        19|     DL|          10397|      -1|\n",
      "|        19|     DL|          15016|       0|\n",
      "|        19|     DL|          10397|      15|\n",
      "|        19|     DL|          10397|      33|\n",
      "|        19|     DL|          11278|     323|\n",
      "|        19|     DL|          14107|      -7|\n",
      "|        19|     DL|          11433|      22|\n",
      "|        19|     DL|          11298|      40|\n",
      "|        19|     DL|          11433|      -2|\n",
      "|        19|     DL|          10397|      71|\n",
      "|        19|     DL|          12451|      75|\n",
      "|        19|     DL|          12953|      -1|\n",
      "|        19|     DL|          11433|      -3|\n",
      "|        19|     DL|          10397|      31|\n",
      "|        19|     DL|          13204|       8|\n",
      "+----------+-------+---------------+--------+\n",
      "only showing top 20 rows\n",
      "\n"
     ]
    }
   ],
   "source": [
    "flights_df.select(['DayofMonth','Carrier','OriginAirportID','DepDelay']).show()"
   ]
  },
  {
   "cell_type": "code",
   "execution_count": 15,
   "id": "2eb54993",
   "metadata": {},
   "outputs": [
    {
     "name": "stdout",
     "output_type": "stream",
     "text": [
      "+-------+\n",
      "|Carrier|\n",
      "+-------+\n",
      "|     UA|\n",
      "|     AA|\n",
      "|     EV|\n",
      "|     B6|\n",
      "|     DL|\n",
      "|     OO|\n",
      "|     F9|\n",
      "|     YV|\n",
      "|     US|\n",
      "|     MQ|\n",
      "|     HA|\n",
      "|     AS|\n",
      "|     FL|\n",
      "|     VX|\n",
      "|     WN|\n",
      "|     9E|\n",
      "+-------+\n",
      "\n"
     ]
    }
   ],
   "source": [
    "flights_df.select(['Carrier']).distinct().show()"
   ]
  },
  {
   "cell_type": "markdown",
   "id": "3f4a71f2",
   "metadata": {},
   "source": [
    "Columns \n",
    "\n",
    "    * Show list of all DataFrame columns"
   ]
  },
  {
   "cell_type": "code",
   "execution_count": 16,
   "id": "901b90e5",
   "metadata": {},
   "outputs": [
    {
     "data": {
      "text/plain": [
       "['DayofMonth',\n",
       " 'DayOfWeek',\n",
       " 'Carrier',\n",
       " 'OriginAirportID',\n",
       " 'DestAirportID',\n",
       " 'DepDelay',\n",
       " 'ArrDelay']"
      ]
     },
     "execution_count": 16,
     "metadata": {},
     "output_type": "execute_result"
    }
   ],
   "source": [
    "flights_df.columns"
   ]
  },
  {
   "cell_type": "markdown",
   "id": "a430e0ff",
   "metadata": {},
   "source": [
    "### 4. count()  - Aggreggate method to show count of dataframe/count of values"
   ]
  },
  {
   "cell_type": "code",
   "execution_count": 17,
   "id": "43c8efa8",
   "metadata": {},
   "outputs": [
    {
     "data": {
      "text/plain": [
       "2719418"
      ]
     },
     "execution_count": 17,
     "metadata": {},
     "output_type": "execute_result"
    }
   ],
   "source": [
    "#To show total number of rows\n",
    "flights_df.count()"
   ]
  },
  {
   "cell_type": "code",
   "execution_count": 18,
   "id": "41bba4a9",
   "metadata": {},
   "outputs": [
    {
     "data": {
      "text/plain": [
       "16"
      ]
     },
     "execution_count": 18,
     "metadata": {},
     "output_type": "execute_result"
    }
   ],
   "source": [
    "# Show total count of Distinct Carrier\n",
    "flights_df.select(['Carrier']).distinct().count()"
   ]
  },
  {
   "cell_type": "markdown",
   "id": "c5361041",
   "metadata": {},
   "source": [
    "### 3. printSchema()\n",
    "    \n",
    "    * Method prints schema name and schema datatypes"
   ]
  },
  {
   "cell_type": "code",
   "execution_count": 19,
   "id": "d4846b7b",
   "metadata": {},
   "outputs": [
    {
     "name": "stdout",
     "output_type": "stream",
     "text": [
      "root\n",
      " |-- DayofMonth: string (nullable = true)\n",
      " |-- DayOfWeek: string (nullable = true)\n",
      " |-- Carrier: string (nullable = true)\n",
      " |-- OriginAirportID: string (nullable = true)\n",
      " |-- DestAirportID: string (nullable = true)\n",
      " |-- DepDelay: string (nullable = true)\n",
      " |-- ArrDelay: string (nullable = true)\n",
      "\n"
     ]
    }
   ],
   "source": [
    "flights_df.printSchema()"
   ]
  },
  {
   "cell_type": "markdown",
   "id": "44f6afd9",
   "metadata": {},
   "source": [
    "4. where\n",
    "\n",
    "    * It is like filter method of RDD with boolean conditions and statements "
   ]
  },
  {
   "cell_type": "code",
   "execution_count": 20,
   "id": "cb256bfe",
   "metadata": {},
   "outputs": [
    {
     "data": {
      "text/plain": [
       "Row(DayofMonth='19', DayOfWeek='5', Carrier='DL', OriginAirportID='15016', DestAirportID='11433', DepDelay='28', ArrDelay='24')"
      ]
     },
     "execution_count": 20,
     "metadata": {},
     "output_type": "execute_result"
    }
   ],
   "source": [
    "flights_df.where(flights_df.DepDelay>0).first()"
   ]
  },
  {
   "cell_type": "code",
   "execution_count": 21,
   "id": "7d841636",
   "metadata": {},
   "outputs": [
    {
     "name": "stdout",
     "output_type": "stream",
     "text": [
      "+----------+---------+-------+---------------+-------------+--------+--------+\n",
      "|DayofMonth|DayOfWeek|Carrier|OriginAirportID|DestAirportID|DepDelay|ArrDelay|\n",
      "+----------+---------+-------+---------------+-------------+--------+--------+\n",
      "|        19|        5|     DL|          15016|        11433|      28|      24|\n",
      "|        19|        5|     DL|          10397|        14869|      15|      24|\n",
      "|        19|        5|     DL|          10397|        10423|      33|      34|\n",
      "|        19|        5|     DL|          11278|        10397|     323|     322|\n",
      "|        19|        5|     DL|          11433|        11298|      22|      41|\n",
      "|        19|        5|     DL|          11298|        11433|      40|      20|\n",
      "|        19|        5|     DL|          10397|        12451|      71|      75|\n",
      "|        19|        5|     DL|          12451|        10397|      75|      57|\n",
      "|        19|        5|     DL|          10397|        14771|      31|      38|\n",
      "|        19|        5|     DL|          13204|        10397|       8|      25|\n",
      "|        19|        5|     DL|          12889|        13487|       7|      16|\n",
      "|        19|        5|     DL|          14027|        10397|      13|      25|\n",
      "|        19|        5|     DL|          13244|        10397|       4|      13|\n",
      "|        19|        5|     DL|          12953|        11697|      12|      -8|\n",
      "|        19|        5|     DL|          10397|        12892|      15|       7|\n",
      "|        19|        5|     DL|          14747|        14869|      15|      18|\n",
      "|        19|        5|     DL|          10423|        10397|      56|      49|\n",
      "|        20|        6|     DL|          12892|        15304|      21|      -2|\n",
      "|        20|        6|     DL|          10397|        11193|      16|      -2|\n",
      "|        20|        6|     DL|          10397|        11278|       2|       1|\n",
      "+----------+---------+-------+---------------+-------------+--------+--------+\n",
      "only showing top 20 rows\n",
      "\n"
     ]
    }
   ],
   "source": [
    "flights_df.where(flights_df.DepDelay>0).show()"
   ]
  },
  {
   "cell_type": "code",
   "execution_count": 22,
   "id": "371e599e",
   "metadata": {},
   "outputs": [
    {
     "name": "stdout",
     "output_type": "stream",
     "text": [
      "+----------+---------+-------+---------------+-------------+--------+--------+\n",
      "|DayofMonth|DayOfWeek|Carrier|OriginAirportID|DestAirportID|DepDelay|ArrDelay|\n",
      "+----------+---------+-------+---------------+-------------+--------+--------+\n",
      "|        19|        5|     DL|          15016|        11433|      28|      24|\n",
      "|        19|        5|     DL|          10397|        14869|      15|      24|\n",
      "|        19|        5|     DL|          10397|        10423|      33|      34|\n",
      "|        19|        5|     DL|          11278|        10397|     323|     322|\n",
      "|        19|        5|     DL|          11433|        11298|      22|      41|\n",
      "|        19|        5|     DL|          11298|        11433|      40|      20|\n",
      "|        19|        5|     DL|          10397|        12451|      71|      75|\n",
      "|        19|        5|     DL|          12451|        10397|      75|      57|\n",
      "|        19|        5|     DL|          10397|        14771|      31|      38|\n",
      "|        19|        5|     DL|          13204|        10397|       8|      25|\n",
      "|        19|        5|     DL|          12889|        13487|       7|      16|\n",
      "|        19|        5|     DL|          14027|        10397|      13|      25|\n",
      "|        19|        5|     DL|          13244|        10397|       4|      13|\n",
      "|        19|        5|     DL|          10397|        12892|      15|       7|\n",
      "|        19|        5|     DL|          14747|        14869|      15|      18|\n",
      "|        19|        5|     DL|          10423|        10397|      56|      49|\n",
      "|        20|        6|     DL|          10397|        11278|       2|       1|\n",
      "|        20|        6|     DL|          11278|        10397|      34|      38|\n",
      "|        20|        6|     DL|          11697|        12953|      20|       1|\n",
      "|        20|        6|     DL|          13487|        13198|      35|      26|\n",
      "+----------+---------+-------+---------------+-------------+--------+--------+\n",
      "only showing top 20 rows\n",
      "\n"
     ]
    }
   ],
   "source": [
    "flights_df.where((flights_df.DepDelay>0) & (flights_df.ArrDelay>0)).show()"
   ]
  },
  {
   "cell_type": "markdown",
   "id": "1a083c82",
   "metadata": {},
   "source": [
    "### 7.Filter()\n",
    "Similar to where() which filter the DataFrame output using condition statement"
   ]
  },
  {
   "cell_type": "code",
   "execution_count": 23,
   "id": "c435cfe0",
   "metadata": {},
   "outputs": [
    {
     "name": "stdout",
     "output_type": "stream",
     "text": [
      "+----------+---------+-------+---------------+-------------+--------+--------+\n",
      "|DayofMonth|DayOfWeek|Carrier|OriginAirportID|DestAirportID|DepDelay|ArrDelay|\n",
      "+----------+---------+-------+---------------+-------------+--------+--------+\n",
      "|        19|        5|     DL|          15016|        11433|      28|      24|\n",
      "|        19|        5|     DL|          10397|        14869|      15|      24|\n",
      "|        19|        5|     DL|          10397|        10423|      33|      34|\n",
      "|        19|        5|     DL|          11278|        10397|     323|     322|\n",
      "|        19|        5|     DL|          11433|        11298|      22|      41|\n",
      "|        19|        5|     DL|          11298|        11433|      40|      20|\n",
      "|        19|        5|     DL|          10397|        12451|      71|      75|\n",
      "|        19|        5|     DL|          12451|        10397|      75|      57|\n",
      "|        19|        5|     DL|          10397|        14771|      31|      38|\n",
      "|        19|        5|     DL|          13204|        10397|       8|      25|\n",
      "|        19|        5|     DL|          12889|        13487|       7|      16|\n",
      "|        19|        5|     DL|          14027|        10397|      13|      25|\n",
      "|        19|        5|     DL|          13244|        10397|       4|      13|\n",
      "|        19|        5|     DL|          10397|        12892|      15|       7|\n",
      "|        19|        5|     DL|          14747|        14869|      15|      18|\n",
      "|        19|        5|     DL|          10423|        10397|      56|      49|\n",
      "|        20|        6|     DL|          10397|        11278|       2|       1|\n",
      "|        20|        6|     DL|          11278|        10397|      34|      38|\n",
      "|        20|        6|     DL|          11697|        12953|      20|       1|\n",
      "|        20|        6|     DL|          13487|        13198|      35|      26|\n",
      "+----------+---------+-------+---------------+-------------+--------+--------+\n",
      "only showing top 20 rows\n",
      "\n"
     ]
    }
   ],
   "source": [
    "flights_df.filter((flights_df.DepDelay>0) & (flights_df.ArrDelay>0)).show()"
   ]
  },
  {
   "cell_type": "markdown",
   "id": "5c628a2e",
   "metadata": {},
   "source": [
    "### 8. isin()\n",
    "    \n",
    "    * Filter values from DataFrame by matching Pattern"
   ]
  },
  {
   "cell_type": "code",
   "execution_count": 24,
   "id": "e18787b9",
   "metadata": {},
   "outputs": [
    {
     "name": "stdout",
     "output_type": "stream",
     "text": [
      "+----------+---------+-------+---------------+-------------+--------+--------+\n",
      "|DayofMonth|DayOfWeek|Carrier|OriginAirportID|DestAirportID|DepDelay|ArrDelay|\n",
      "+----------+---------+-------+---------------+-------------+--------+--------+\n",
      "|        19|        5|     DL|          11433|        13303|      -3|       1|\n",
      "|        19|        5|     DL|          14869|        12478|       0|      -8|\n",
      "|        19|        5|     DL|          14057|        14869|      -4|     -15|\n",
      "|        19|        5|     DL|          15016|        11433|      28|      24|\n",
      "|        19|        5|     DL|          11193|        12892|      -6|     -11|\n",
      "|        19|        5|     DL|          10397|        15016|      -1|     -19|\n",
      "|        19|        5|     DL|          15016|        10397|       0|      -1|\n",
      "|        19|        5|     DL|          10397|        14869|      15|      24|\n",
      "|        19|        5|     DL|          10397|        10423|      33|      34|\n",
      "|        19|        5|     DL|          11278|        10397|     323|     322|\n",
      "|        19|        5|     DL|          14107|        13487|      -7|     -13|\n",
      "|        19|        5|     DL|          11433|        11298|      22|      41|\n",
      "|        19|        5|     DL|          11298|        11433|      40|      20|\n",
      "|        19|        5|     DL|          11433|        12892|      -2|      -7|\n",
      "|        19|        5|     DL|          10397|        12451|      71|      75|\n",
      "|        19|        5|     DL|          12451|        10397|      75|      57|\n",
      "|        19|        5|     DL|          12953|        10397|      -1|      10|\n",
      "|        19|        5|     DL|          11433|        12953|      -3|     -10|\n",
      "|        19|        5|     DL|          10397|        14771|      31|      38|\n",
      "|        19|        5|     DL|          13204|        10397|       8|      25|\n",
      "+----------+---------+-------+---------------+-------------+--------+--------+\n",
      "only showing top 20 rows\n",
      "\n"
     ]
    }
   ],
   "source": [
    "flights_df.where(flights_df.Carrier.isin('DL','F9','UA','9E')).show()"
   ]
  },
  {
   "cell_type": "markdown",
   "id": "b139da5f",
   "metadata": {},
   "source": [
    "#### Read airports.csv file as Spark DataFrame"
   ]
  },
  {
   "cell_type": "code",
   "execution_count": 26,
   "id": "85113186",
   "metadata": {},
   "outputs": [],
   "source": [
    "airports_df=spark.read.csv(\"file:///home/hadoop/Downloads/airports.csv\",header=True)"
   ]
  },
  {
   "cell_type": "code",
   "execution_count": 27,
   "id": "a2aa3fe0",
   "metadata": {},
   "outputs": [
    {
     "name": "stdout",
     "output_type": "stream",
     "text": [
      "+----------+-----------+-----+--------------------+\n",
      "|airport_id|       city|state|                name|\n",
      "+----------+-----------+-----+--------------------+\n",
      "|     10165|Adak Island|   AK|                Adak|\n",
      "|     10299|  Anchorage|   AK|Ted Stevens Ancho...|\n",
      "|     10304|      Aniak|   AK|       Aniak Airport|\n",
      "|     10754|     Barrow|   AK|Wiley Post/Will R...|\n",
      "|     10551|     Bethel|   AK|      Bethel Airport|\n",
      "|     10926|    Cordova|   AK|Merle K Mudhole S...|\n",
      "|     14709|  Deadhorse|   AK|   Deadhorse Airport|\n",
      "|     11336| Dillingham|   AK|  Dillingham Airport|\n",
      "|     11630|  Fairbanks|   AK|Fairbanks Interna...|\n",
      "|     11997|   Gustavus|   AK|    Gustavus Airport|\n",
      "|     12523|     Juneau|   AK|Juneau International|\n",
      "|     12819|  Ketchikan|   AK|Ketchikan Interna...|\n",
      "|     10245|King Salmon|   AK| King Salmon Airport|\n",
      "|     10170|     Kodiak|   AK|      Kodiak Airport|\n",
      "|     13970|   Kotzebue|   AK| Ralph Wien Memorial|\n",
      "|     13873|       Nome|   AK|        Nome Airport|\n",
      "|     14256| Petersburg|   AK|Petersburg James ...|\n",
      "|     14828|      Sitka|   AK|Sitka Rocky Gutie...|\n",
      "|     12807| St. Mary's|   AK|  St. Mary's Airport|\n",
      "|     11445|   Unalaska|   AK|    Unalaska Airport|\n",
      "+----------+-----------+-----+--------------------+\n",
      "only showing top 20 rows\n",
      "\n"
     ]
    }
   ],
   "source": [
    "airports_df.show()"
   ]
  },
  {
   "cell_type": "markdown",
   "id": "ad9ce395",
   "metadata": {},
   "source": [
    "### 9. Join()\n",
    "\n",
    "    * To Join two or more than two dataframes using condition"
   ]
  },
  {
   "cell_type": "code",
   "execution_count": 28,
   "id": "7635d6f2",
   "metadata": {},
   "outputs": [
    {
     "name": "stdout",
     "output_type": "stream",
     "text": [
      "+----------+---------+-------+---------------+-------------+--------+--------+----------+-----------------+-----+--------------------+\n",
      "|DayofMonth|DayOfWeek|Carrier|OriginAirportID|DestAirportID|DepDelay|ArrDelay|airport_id|             city|state|                name|\n",
      "+----------+---------+-------+---------------+-------------+--------+--------+----------+-----------------+-----+--------------------+\n",
      "|        19|        5|     DL|          11433|        13303|      -3|       1|     11433|          Detroit|   MI|Detroit Metro Way...|\n",
      "|        19|        5|     DL|          14869|        12478|       0|      -8|     14869|   Salt Lake City|   UT|Salt Lake City In...|\n",
      "|        19|        5|     DL|          14057|        14869|      -4|     -15|     14057|         Portland|   OR|Portland Internat...|\n",
      "|        19|        5|     DL|          15016|        11433|      28|      24|     15016|        St. Louis|   MO|Lambert-St. Louis...|\n",
      "|        19|        5|     DL|          11193|        12892|      -6|     -11|     11193|       Cincinnati|   OH|Cincinnati/Northe...|\n",
      "|        19|        5|     DL|          10397|        15016|      -1|     -19|     10397|          Atlanta|   GA|Hartsfield-Jackso...|\n",
      "|        19|        5|     DL|          15016|        10397|       0|      -1|     15016|        St. Louis|   MO|Lambert-St. Louis...|\n",
      "|        19|        5|     DL|          10397|        14869|      15|      24|     10397|          Atlanta|   GA|Hartsfield-Jackso...|\n",
      "|        19|        5|     DL|          10397|        10423|      33|      34|     10397|          Atlanta|   GA|Hartsfield-Jackso...|\n",
      "|        19|        5|     DL|          11278|        10397|     323|     322|     11278|       Washington|   DC|Ronald Reagan Was...|\n",
      "|        19|        5|     DL|          14107|        13487|      -7|     -13|     14107|          Phoenix|   AZ|Phoenix Sky Harbo...|\n",
      "|        19|        5|     DL|          11433|        11298|      22|      41|     11433|          Detroit|   MI|Detroit Metro Way...|\n",
      "|        19|        5|     DL|          11298|        11433|      40|      20|     11298|Dallas/Fort Worth|   TX|Dallas/Fort Worth...|\n",
      "|        19|        5|     DL|          11433|        12892|      -2|      -7|     11433|          Detroit|   MI|Detroit Metro Way...|\n",
      "|        19|        5|     DL|          10397|        12451|      71|      75|     10397|          Atlanta|   GA|Hartsfield-Jackso...|\n",
      "|        19|        5|     DL|          12451|        10397|      75|      57|     12451|     Jacksonville|   FL|Jacksonville Inte...|\n",
      "|        19|        5|     DL|          12953|        10397|      -1|      10|     12953|         New York|   NY|           LaGuardia|\n",
      "|        19|        5|     DL|          11433|        12953|      -3|     -10|     11433|          Detroit|   MI|Detroit Metro Way...|\n",
      "|        19|        5|     DL|          10397|        14771|      31|      38|     10397|          Atlanta|   GA|Hartsfield-Jackso...|\n",
      "|        19|        5|     DL|          13204|        10397|       8|      25|     13204|          Orlando|   FL|Orlando Internati...|\n",
      "+----------+---------+-------+---------------+-------------+--------+--------+----------+-----------------+-----+--------------------+\n",
      "only showing top 20 rows\n",
      "\n"
     ]
    }
   ],
   "source": [
    "flights_airport_df=flights_df.join(airports_df,flights_df.OriginAirportID==airports_df.airport_id)\n",
    "flights_airport_df.show()"
   ]
  },
  {
   "cell_type": "markdown",
   "id": "74399e21",
   "metadata": {},
   "source": [
    "### 10. Drop Duplicates()\n",
    "\n",
    "    * It will drop duplicate records from existing DataFrame"
   ]
  },
  {
   "cell_type": "code",
   "execution_count": 29,
   "id": "19e9eb24",
   "metadata": {},
   "outputs": [],
   "source": [
    "flights_df1=flights_df.dropDuplicates()"
   ]
  },
  {
   "cell_type": "markdown",
   "id": "61b01287",
   "metadata": {},
   "source": [
    "#### Calculate percentage Data Lost after DropDuplicates"
   ]
  },
  {
   "cell_type": "code",
   "execution_count": 30,
   "id": "ef4d2325",
   "metadata": {},
   "outputs": [],
   "source": [
    "c=flights_df1.count()"
   ]
  },
  {
   "cell_type": "code",
   "execution_count": 31,
   "id": "17ec2b6e",
   "metadata": {},
   "outputs": [],
   "source": [
    "p=flights_df.count()"
   ]
  },
  {
   "cell_type": "code",
   "execution_count": 32,
   "id": "1f3686d5",
   "metadata": {},
   "outputs": [
    {
     "data": {
      "text/plain": [
       "-0.8249927006440348"
      ]
     },
     "execution_count": 32,
     "metadata": {},
     "output_type": "execute_result"
    }
   ],
   "source": [
    "percent=(c-p)/p\n",
    "percent*100.0"
   ]
  },
  {
   "cell_type": "markdown",
   "id": "b9a14e8b",
   "metadata": {},
   "source": [
    "### 11.Describe\n",
    "- Use Describe method to show summary statistics or numeric DataFrame columns\n",
    "- Summary includes count(), stddev(), min(), max(), mean()"
   ]
  },
  {
   "cell_type": "code",
   "execution_count": 35,
   "id": "30993213",
   "metadata": {},
   "outputs": [
    {
     "name": "stdout",
     "output_type": "stream",
     "text": [
      "+-------+------------------+------------------+-------+------------------+------------------+------------------+------------------+\n",
      "|summary|        DayofMonth|         DayOfWeek|Carrier|   OriginAirportID|     DestAirportID|          DepDelay|          ArrDelay|\n",
      "+-------+------------------+------------------+-------+------------------+------------------+------------------+------------------+\n",
      "|  count|           2696983|           2696983|2696983|           2696983|           2696983|           2674774|           2673185|\n",
      "|   mean|15.798996508320593| 3.900369412784582|   null|12742.459424846207| 12742.85937657004|10.618575625454712|6.7272897311633875|\n",
      "| stddev| 8.801267199135449|1.9864582421701977|   null|1502.0359941370614|1501.9939589817984| 36.19830843251268| 38.75007476808385|\n",
      "|    min|                 1|                 1|     9E|             10140|             10140|                -1|                -1|\n",
      "|    max|                 9|                 7|     YV|             15376|             15376|               996|               997|\n",
      "+-------+------------------+------------------+-------+------------------+------------------+------------------+------------------+\n",
      "\n"
     ]
    }
   ],
   "source": [
    "flights_df1.describe().show()"
   ]
  },
  {
   "cell_type": "markdown",
   "id": "4b90b12d",
   "metadata": {},
   "source": [
    "### 12. Summary()\n",
    "- Use Summary() method for detailed summary of columns\n",
    "- Summary includes count(), stddev(), min(), max(), mean(), quartiles- Q1, Q2(median), Q3"
   ]
  },
  {
   "cell_type": "code",
   "execution_count": 36,
   "id": "b777dda4",
   "metadata": {},
   "outputs": [
    {
     "name": "stdout",
     "output_type": "stream",
     "text": [
      "+-------+------------------+------------------+-------+------------------+------------------+------------------+------------------+\n",
      "|summary|        DayofMonth|         DayOfWeek|Carrier|   OriginAirportID|     DestAirportID|          DepDelay|          ArrDelay|\n",
      "+-------+------------------+------------------+-------+------------------+------------------+------------------+------------------+\n",
      "|  count|           2696983|           2696983|2696983|           2696983|           2696983|           2674774|           2673185|\n",
      "|   mean|15.798996508320593| 3.900369412784582|   null|12742.459424846207| 12742.85937657004|10.618575625454712|6.7272897311633875|\n",
      "| stddev| 8.801267199135449|1.9864582421701977|   null|1502.0359941370614|1501.9939589817984| 36.19830843251268| 38.75007476808385|\n",
      "|    min|                 1|                 1|     9E|             10140|             10140|                -1|                -1|\n",
      "|    25%|               8.0|               2.0|   null|           11292.0|           11292.0|              -4.0|             -11.0|\n",
      "|    50%|              16.0|               4.0|   null|           12892.0|           12892.0|              -1.0|              -3.0|\n",
      "|    75%|              23.0|               6.0|   null|           14057.0|           14057.0|              10.0|              10.0|\n",
      "|    max|                 9|                 7|     YV|             15376|             15376|               996|               997|\n",
      "+-------+------------------+------------------+-------+------------------+------------------+------------------+------------------+\n",
      "\n"
     ]
    }
   ],
   "source": [
    "flights_df1.summary().show()"
   ]
  },
  {
   "cell_type": "markdown",
   "id": "70bc9b3d",
   "metadata": {},
   "source": [
    "### 13. Select Categorical Columns"
   ]
  },
  {
   "cell_type": "code",
   "execution_count": 37,
   "id": "3d5490a3",
   "metadata": {},
   "outputs": [],
   "source": [
    "from pyspark.sql.types import IntegerType, StringType\n",
    "from pyspark.sql.functions import *"
   ]
  },
  {
   "cell_type": "code",
   "execution_count": 53,
   "id": "40b4b6f8",
   "metadata": {},
   "outputs": [],
   "source": [
    "categorical_columns = [field.name for field in flights_df.schema.fields if isinstance(field.dataType, StringType)]"
   ]
  },
  {
   "cell_type": "code",
   "execution_count": 55,
   "id": "1219819d",
   "metadata": {},
   "outputs": [
    {
     "data": {
      "text/plain": [
       "['DayofMonth',\n",
       " 'DayOfWeek',\n",
       " 'Carrier',\n",
       " 'OriginAirportID',\n",
       " 'DestAirportID',\n",
       " 'DepDelay',\n",
       " 'ArrDelay']"
      ]
     },
     "execution_count": 55,
     "metadata": {},
     "output_type": "execute_result"
    }
   ],
   "source": [
    "categorical_columns"
   ]
  },
  {
   "cell_type": "markdown",
   "id": "d355e5d1",
   "metadata": {},
   "source": [
    "### 14. col(), groupBy()\n",
    "- In pyspark 'col' function is used to refer to a column in DataFrame.\n",
    "- groupBy(): Method to group rows of DataFrame based on values of one or more columns"
   ]
  },
  {
   "cell_type": "code",
   "execution_count": 46,
   "id": "ffb20e94",
   "metadata": {},
   "outputs": [],
   "source": [
    "# In pyspark 'col' function is used to refer to a column in DataFrame.\n",
    "# where to use it. In column operations\n",
    "from pyspark.sql.functions import col"
   ]
  },
  {
   "cell_type": "code",
   "execution_count": 50,
   "id": "a1cc4a6a",
   "metadata": {},
   "outputs": [
    {
     "data": {
      "text/plain": [
       "664460"
      ]
     },
     "execution_count": 50,
     "metadata": {},
     "output_type": "execute_result"
    }
   ],
   "source": [
    "flights_df1.filter(col('ArrDelay') > 10).count()"
   ]
  },
  {
   "cell_type": "code",
   "execution_count": 52,
   "id": "170289cf",
   "metadata": {},
   "outputs": [
    {
     "name": "stdout",
     "output_type": "stream",
     "text": [
      "+----------+-----+\n",
      "|DayofMonth|count|\n",
      "+----------+-----+\n",
      "|         7|87775|\n",
      "|        15|89318|\n",
      "|        11|88376|\n",
      "|        29|89172|\n",
      "|         3|90086|\n",
      "|        30|90440|\n",
      "|         8|88890|\n",
      "|        22|89062|\n",
      "|        28|87292|\n",
      "|        16|91092|\n",
      "|         5|86385|\n",
      "|        31|47959|\n",
      "|        18|88505|\n",
      "|        27|85724|\n",
      "|        17|89198|\n",
      "|        26|86276|\n",
      "|         6|87497|\n",
      "|        19|88852|\n",
      "|        23|90980|\n",
      "|        25|88081|\n",
      "+----------+-----+\n",
      "only showing top 20 rows\n",
      "\n",
      "+---------+------+\n",
      "|DayOfWeek| count|\n",
      "+---------+------+\n",
      "|        7|371903|\n",
      "|        3|401926|\n",
      "|        5|395854|\n",
      "|        6|318242|\n",
      "|        1|407195|\n",
      "|        4|405244|\n",
      "|        2|396619|\n",
      "+---------+------+\n",
      "\n",
      "+-------+------+\n",
      "|Carrier| count|\n",
      "+-------+------+\n",
      "|     UA|286010|\n",
      "|     AA|288910|\n",
      "|     EV|157218|\n",
      "|     B6|121875|\n",
      "|     DL|381601|\n",
      "|     OO|159639|\n",
      "|     F9| 35736|\n",
      "|     YV| 52740|\n",
      "|     US|232955|\n",
      "|     MQ|112113|\n",
      "|     HA| 17424|\n",
      "|     AS| 68544|\n",
      "|     FL| 92674|\n",
      "|     VX| 34726|\n",
      "|     WN|575090|\n",
      "|     9E| 79728|\n",
      "+-------+------+\n",
      "\n",
      "+---------------+-----+\n",
      "|OriginAirportID|count|\n",
      "+---------------+-----+\n",
      "|          13851|13899|\n",
      "|          13244|18626|\n",
      "|          13232|49700|\n",
      "|          13204|58972|\n",
      "|          14100|47386|\n",
      "|          13342|20964|\n",
      "|          10792|14773|\n",
      "|          10423|26960|\n",
      "|          11057|76383|\n",
      "|          13931|10000|\n",
      "|          11193|23882|\n",
      "|          15376|10986|\n",
      "|          12191|28901|\n",
      "|          11697|34851|\n",
      "|          13303|41911|\n",
      "|          10299| 7700|\n",
      "|          12266|73286|\n",
      "|          14730|10906|\n",
      "|          15016|33006|\n",
      "|          14908|23541|\n",
      "+---------------+-----+\n",
      "only showing top 20 rows\n",
      "\n",
      "+-------------+-----+\n",
      "|DestAirportID|count|\n",
      "+-------------+-----+\n",
      "|        13851|13878|\n",
      "|        13244|18627|\n",
      "|        13232|49490|\n",
      "|        13204|59035|\n",
      "|        14100|47343|\n",
      "|        13342|20967|\n",
      "|        10792|14792|\n",
      "|        10423|26988|\n",
      "|        11057|76449|\n",
      "|        13931|10028|\n",
      "|        11193|23883|\n",
      "|        15376|11006|\n",
      "|        12191|28864|\n",
      "|        11697|34809|\n",
      "|        13303|42015|\n",
      "|        10299| 7710|\n",
      "|        12266|73414|\n",
      "|        14730|10939|\n",
      "|        14908|23558|\n",
      "|        15016|33011|\n",
      "+-------------+-----+\n",
      "only showing top 20 rows\n",
      "\n",
      "+--------+------+\n",
      "|DepDelay| count|\n",
      "+--------+------+\n",
      "|      -4|190538|\n",
      "|     296|    50|\n",
      "|     467|     5|\n",
      "|     675|     2|\n",
      "|     125|   947|\n",
      "|     451|     7|\n",
      "|     -30|     5|\n",
      "|     944|     2|\n",
      "|     853|     3|\n",
      "|     800|     3|\n",
      "|     666|     2|\n",
      "|     870|     1|\n",
      "|    1265|     1|\n",
      "|       7| 36831|\n",
      "|      51|  4262|\n",
      "|     124|   868|\n",
      "|     591|     2|\n",
      "|     447|     6|\n",
      "|     307|    41|\n",
      "|     475|     4|\n",
      "+--------+------+\n",
      "only showing top 20 rows\n",
      "\n",
      "+--------+-----+\n",
      "|ArrDelay|count|\n",
      "+--------+-----+\n",
      "|      -4|76644|\n",
      "|     296|   49|\n",
      "|     467|    7|\n",
      "|     675|    2|\n",
      "|     -86|    1|\n",
      "|    1436|    1|\n",
      "|     -30| 7300|\n",
      "|     125|  917|\n",
      "|     451|    4|\n",
      "|    1394|    1|\n",
      "|     800|    1|\n",
      "|     944|    1|\n",
      "|     666|    3|\n",
      "|     919|    1|\n",
      "|    1241|    1|\n",
      "|       7|38912|\n",
      "|      51| 4135|\n",
      "|     124|  874|\n",
      "|     447|    5|\n",
      "|     307|   43|\n",
      "+--------+-----+\n",
      "only showing top 20 rows\n",
      "\n"
     ]
    }
   ],
   "source": [
    "for column in categorical_columns:\n",
    "    flights_df1.groupBy(column).count().show()"
   ]
  },
  {
   "cell_type": "markdown",
   "id": "c43c132e",
   "metadata": {},
   "source": [
    "### 15. isnull()\n",
    "- Method returns boolean outcome for missing values"
   ]
  },
  {
   "cell_type": "code",
   "execution_count": 59,
   "id": "65c7aea5",
   "metadata": {},
   "outputs": [
    {
     "name": "stdout",
     "output_type": "stream",
     "text": [
      "+----------+---------+-------+---------------+-------------+--------+--------+\n",
      "|DayofMonth|DayOfWeek|Carrier|OriginAirportID|DestAirportID|DepDelay|ArrDelay|\n",
      "+----------+---------+-------+---------------+-------------+--------+--------+\n",
      "|        28|        7|     EV|          11042|        13198|    null|    null|\n",
      "|        17|        3|     EV|          13851|        13930|    null|    null|\n",
      "|         8|        1|     9E|          11298|        14869|    null|    null|\n",
      "|        17|        3|     9E|          14492|        12339|    null|    null|\n",
      "|        30|        2|     AA|          11278|        13303|    null|    null|\n",
      "|        17|        3|     AA|          13487|        13303|    null|    null|\n",
      "|        10|        3|     AA|          10721|        13930|    null|    null|\n",
      "|        18|        4|     AA|          15016|        11298|    null|    null|\n",
      "|        14|        7|     B6|          14027|        14843|    null|    null|\n",
      "|         1|        1|     UA|          10821|        12266|    null|    null|\n",
      "|        10|        3|     WN|          12953|        10693|    null|    null|\n",
      "|        10|        3|     WN|          13851|        11259|    null|    null|\n",
      "|        17|        3|     WN|          12892|        14831|    null|    null|\n",
      "|        18|        4|     WN|          11066|        10821|    null|    null|\n",
      "|        18|        4|     WN|          12191|        10140|    null|    null|\n",
      "|        18|        4|     WN|          14869|        11292|    null|    null|\n",
      "|         8|        1|     WN|          11259|        12191|    null|    null|\n",
      "|        30|        2|     WN|          12892|        11292|    null|    null|\n",
      "|         9|        2|     MQ|          11618|        13930|    null|    null|\n",
      "|        11|        4|     MQ|          13930|        11433|    null|    null|\n",
      "|        18|        4|     OO|          13487|        13871|    null|    null|\n",
      "|        18|        4|     UA|          13930|        11042|    null|    null|\n",
      "|        24|        5|     EV|          14492|        11618|    null|    null|\n",
      "|        15|        3|     EV|          13244|        11298|      -9|    null|\n",
      "|         3|        5|     EV|          10397|        12264|    null|    null|\n",
      "|         1|        3|     EV|          11066|        12264|    null|    null|\n",
      "|         9|        4|     EV|          12339|        13930|    null|    null|\n",
      "|        30|        4|     AA|          12889|        13930|    null|    null|\n",
      "|        22|        3|     US|          10721|        12953|    null|    null|\n",
      "|         1|        3|     WN|          12889|        13891|    null|    null|\n",
      "|         2|        4|     WN|          14570|        12889|    null|    null|\n",
      "|         8|        3|     WN|          13342|        12953|    null|    null|\n",
      "|        28|        2|     WN|          13232|        11433|    null|    null|\n",
      "|        31|        5|     WN|          15016|        12191|    null|    null|\n",
      "|         4|        6|     YV|          14730|        11057|    null|    null|\n",
      "|        26|        7|     YV|          11057|        14492|    null|    null|\n",
      "|        23|        4|     MQ|          11278|        12478|    null|    null|\n",
      "|        15|        3|     OO|          12266|        11298|       2|    null|\n",
      "|         2|        4|     US|          14057|        14107|    null|    null|\n",
      "|         8|        3|     US|          11618|        11057|    null|    null|\n",
      "|         8|        3|     US|          12953|        11278|    null|    null|\n",
      "|         5|        7|     US|          14100|        11057|    null|    null|\n",
      "|        12|        3|     MQ|          11066|        13930|    null|    null|\n",
      "|        28|        5|     OO|          14771|        14869|    null|    null|\n",
      "|        28|        5|     OO|          12892|        10140|    null|    null|\n",
      "|        29|        6|     UA|          11292|        12264|    null|    null|\n",
      "|        26|        3|     UA|          13930|        11618|    null|    null|\n",
      "|        10|        1|     UA|          10821|        13930|    null|    null|\n",
      "|         9|        7|     UA|          12264|        12892|    null|    null|\n",
      "|        11|        2|     US|          11057|        10397|    null|    null|\n",
      "|        13|        4|     US|          11057|        12953|    null|    null|\n",
      "|        26|        3|     9E|          13930|        13487|    null|    null|\n",
      "|        27|        4|     9E|          10529|        11433|    null|    null|\n",
      "|        17|        1|     9E|          13342|        11433|    null|    null|\n",
      "|        24|        1|     US|          10721|        11278|       4|    null|\n",
      "|        13|        4|     WN|          10821|        14492|    null|    null|\n",
      "|        12|        3|     WN|          14122|        13232|    null|    null|\n",
      "|        21|        5|     WN|          13232|        14307|    null|    null|\n",
      "|        26|        3|     WN|          13232|        12264|    null|    null|\n",
      "|        13|        4|     WN|          13495|        12191|    null|    null|\n",
      "|         9|        7|     YV|          11057|        12264|    null|    null|\n",
      "|        28|        5|     WN|          12264|        13232|    null|    null|\n",
      "|        11|        2|     YV|          13930|        11057|    null|    null|\n",
      "|        28|        5|     DL|          11697|        12953|      30|    null|\n",
      "|        17|        1|     EV|          14122|        12953|    null|    null|\n",
      "|         2|        7|     EV|          11193|        13487|    null|    null|\n",
      "|         4|        2|     FL|          13342|        11278|    null|    null|\n",
      "|        17|        3|     DL|          13495|        12953|    null|    null|\n",
      "|        12|        5|     EV|          11066|        12264|    null|    null|\n",
      "|        11|        4|     MQ|          13851|        13930|    null|    null|\n",
      "|         7|        7|     EV|          12953|        12264|    null|    null|\n",
      "|        22|        1|     9E|          12478|        12451|    null|    null|\n",
      "|         8|        1|     9E|          14100|        11193|    null|    null|\n",
      "|         6|        6|     AA|          11298|        11278|    null|    null|\n",
      "|         3|        3|     DL|          12953|        11697|    null|    null|\n",
      "|        27|        6|     B6|          12478|        14027|    null|    null|\n",
      "|        27|        6|     B6|          14027|        12478|    null|    null|\n",
      "|         8|        1|     DL|          13495|        12953|    null|    null|\n",
      "|         1|        1|     WN|          13232|        12953|    null|    null|\n",
      "|         7|        7|     WN|          13232|        14771|    null|    null|\n",
      "|        10|        3|     WN|          11292|        15016|    null|    null|\n",
      "|        26|        5|     WN|          13891|        13796|    null|    null|\n",
      "|        25|        4|     WN|          13796|        12892|    null|    null|\n",
      "|        27|        6|     YV|          13244|        11057|    null|    null|\n",
      "|        15|        1|     MQ|          11278|        14492|    null|    null|\n",
      "|        30|        2|     MQ|          13851|        12892|    null|    null|\n",
      "|        20|        6|     OO|          14107|        10800|    null|    null|\n",
      "|        30|        2|     UA|          14771|        12889|    null|    null|\n",
      "|         6|        6|     UA|          14771|        10821|    null|    null|\n",
      "|         6|        6|     UA|          14771|        11042|    null|    null|\n",
      "|         1|        4|     9E|          10792|        12478|    null|    null|\n",
      "|        12|        1|     AA|          11298|        12266|    null|    null|\n",
      "|         2|        5|     AA|          11042|        11298|    null|    null|\n",
      "|        13|        2|     AA|          14492|        11298|    null|    null|\n",
      "|        21|        3|     AS|          10299|        14747|    null|    null|\n",
      "|        25|        7|     WN|          13796|        10800|    null|    null|\n",
      "|        26|        1|     WN|          12892|        14771|    null|    null|\n",
      "|         9|        5|     EV|          12953|        14122|    null|    null|\n",
      "|        16|        5|     EV|          13244|        12953|    null|    null|\n",
      "|        11|        7|     FL|          14122|        13204|    null|    null|\n",
      "+----------+---------+-------+---------------+-------------+--------+--------+\n",
      "only showing top 100 rows\n",
      "\n"
     ]
    }
   ],
   "source": [
    "# Check for nulls in specific columns\n",
    "flights_df1.filter(col('ArrDelay').isNull()).show(100)"
   ]
  },
  {
   "cell_type": "code",
   "execution_count": 60,
   "id": "7fbe5719",
   "metadata": {},
   "outputs": [
    {
     "data": {
      "text/plain": [
       "23798"
      ]
     },
     "execution_count": 60,
     "metadata": {},
     "output_type": "execute_result"
    }
   ],
   "source": [
    "# Show num of missing values for one column\n",
    "flights_df1.filter(col('ArrDelay').isNull()).count()"
   ]
  },
  {
   "cell_type": "code",
   "execution_count": 61,
   "id": "dc1508cc",
   "metadata": {},
   "outputs": [
    {
     "data": {
      "text/plain": [
       "DataFrame[(ArrDelay IS NULL): boolean]"
      ]
     },
     "execution_count": 61,
     "metadata": {},
     "output_type": "execute_result"
    }
   ],
   "source": [
    "#isNull will return the boolean value\n",
    "flights_df1.select(col('ArrDelay').isNull())"
   ]
  },
  {
   "cell_type": "code",
   "execution_count": 65,
   "id": "07ab7392",
   "metadata": {},
   "outputs": [
    {
     "name": "stdout",
     "output_type": "stream",
     "text": [
      "+----------+---------+-------+---------------+-------------+--------+--------+\n",
      "|DayofMonth|DayOfWeek|Carrier|OriginAirportID|DestAirportID|DepDelay|ArrDelay|\n",
      "+----------+---------+-------+---------------+-------------+--------+--------+\n",
      "|         0|        0|      0|              0|            0|   22209|   23798|\n",
      "+----------+---------+-------+---------------+-------------+--------+--------+\n",
      "\n"
     ]
    }
   ],
   "source": [
    "flights_df1.select([count(when(isnull(column), column )).alias(column) for column in flights_df1.columns]).show()"
   ]
  },
  {
   "cell_type": "markdown",
   "id": "028627a1",
   "metadata": {},
   "source": [
    "### Create the same using col"
   ]
  },
  {
   "cell_type": "code",
   "execution_count": 95,
   "id": "74acf5e7",
   "metadata": {},
   "outputs": [
    {
     "name": "stdout",
     "output_type": "stream",
     "text": [
      "+----------+---------+-------+---------------+-------------+--------+--------+\n",
      "|DayofMonth|DayOfWeek|Carrier|OriginAirportID|DestAirportID|DepDelay|ArrDelay|\n",
      "+----------+---------+-------+---------------+-------------+--------+--------+\n",
      "|     false|    false|  false|          false|        false|   false|   false|\n",
      "|     false|    false|  false|          false|        false|   false|   false|\n",
      "|     false|    false|  false|          false|        false|   false|   false|\n",
      "|     false|    false|  false|          false|        false|   false|   false|\n",
      "|     false|    false|  false|          false|        false|   false|   false|\n",
      "|     false|    false|  false|          false|        false|   false|   false|\n",
      "|     false|    false|  false|          false|        false|   false|   false|\n",
      "|     false|    false|  false|          false|        false|   false|   false|\n",
      "|     false|    false|  false|          false|        false|   false|   false|\n",
      "|     false|    false|  false|          false|        false|   false|   false|\n",
      "|     false|    false|  false|          false|        false|   false|   false|\n",
      "|     false|    false|  false|          false|        false|   false|   false|\n",
      "|     false|    false|  false|          false|        false|   false|   false|\n",
      "|     false|    false|  false|          false|        false|   false|   false|\n",
      "|     false|    false|  false|          false|        false|   false|   false|\n",
      "|     false|    false|  false|          false|        false|   false|   false|\n",
      "|     false|    false|  false|          false|        false|   false|   false|\n",
      "|     false|    false|  false|          false|        false|    true|    true|\n",
      "|     false|    false|  false|          false|        false|   false|   false|\n",
      "|     false|    false|  false|          false|        false|   false|   false|\n",
      "+----------+---------+-------+---------------+-------------+--------+--------+\n",
      "only showing top 20 rows\n",
      "\n"
     ]
    }
   ],
   "source": [
    "flights_df1.select([col(column).isNull().alias(column) for column in flights_df1.columns]).show()"
   ]
  },
  {
   "cell_type": "code",
   "execution_count": 118,
   "id": "f86afb2d",
   "metadata": {},
   "outputs": [
    {
     "data": {
      "text/plain": [
       "{'DayofMonth': 0,\n",
       " 'DayOfWeek': 0,\n",
       " 'Carrier': 0,\n",
       " 'OriginAirportID': 0,\n",
       " 'DestAirportID': 0,\n",
       " 'DepDelay': 22209,\n",
       " 'ArrDelay': 23798}"
      ]
     },
     "execution_count": 118,
     "metadata": {},
     "output_type": "execute_result"
    }
   ],
   "source": [
    "{column : flights_df1.filter( col(column).isNull()).count() for column in flights_df1.columns}"
   ]
  },
  {
   "cell_type": "code",
   "execution_count": 119,
   "id": "d325be1a",
   "metadata": {},
   "outputs": [
    {
     "name": "stdout",
     "output_type": "stream",
     "text": [
      "+----------+---------+-------+---------------+-------------+--------+--------+\n",
      "|DayofMonth|DayOfWeek|Carrier|OriginAirportID|DestAirportID|DepDelay|ArrDelay|\n",
      "+----------+---------+-------+---------------+-------------+--------+--------+\n",
      "|         0|        0|      0|              0|            0|   22209|   23798|\n",
      "+----------+---------+-------+---------------+-------------+--------+--------+\n",
      "\n"
     ]
    }
   ],
   "source": [
    "flights_df1.select([sum(col(column).isNull().cast('int')).alias(column) for column in flights_df1.columns]).show()"
   ]
  },
  {
   "cell_type": "markdown",
   "id": "d772ed7c",
   "metadata": {},
   "source": [
    "### 16. fillna()\n",
    "- To replace or fill missing values of column with central tendancies(mean,median,mode)\n",
    "- Here will replace missing values by 0s"
   ]
  },
  {
   "cell_type": "code",
   "execution_count": 120,
   "id": "d9bbb962",
   "metadata": {},
   "outputs": [],
   "source": [
    "flights_df2 = flights_df1.fillna({'DepDelay':0,'ArrDelay':0})"
   ]
  },
  {
   "cell_type": "code",
   "execution_count": 121,
   "id": "3f62adf5",
   "metadata": {},
   "outputs": [
    {
     "name": "stdout",
     "output_type": "stream",
     "text": [
      "+----------+---------+-------+---------------+-------------+--------+--------+\n",
      "|DayofMonth|DayOfWeek|Carrier|OriginAirportID|DestAirportID|DepDelay|ArrDelay|\n",
      "+----------+---------+-------+---------------+-------------+--------+--------+\n",
      "|         0|        0|      0|              0|            0|       0|       0|\n",
      "+----------+---------+-------+---------------+-------------+--------+--------+\n",
      "\n"
     ]
    }
   ],
   "source": [
    "flights_df2.select([sum(col(column).isNull().cast('int')).alias(column) for column in flights_df2.columns]).show()"
   ]
  },
  {
   "cell_type": "markdown",
   "id": "6862f4a9",
   "metadata": {},
   "source": [
    "### 17. dropna() \n",
    "- dropna method is used to remove rows with null values"
   ]
  },
  {
   "cell_type": "code",
   "execution_count": 122,
   "id": "f938be88",
   "metadata": {},
   "outputs": [],
   "source": [
    "flights_df3 = flights_df1.dropna()"
   ]
  },
  {
   "cell_type": "markdown",
   "id": "ff59b9cd",
   "metadata": {},
   "source": [
    "### 18. Statistical Methods\n",
    "- mean(), median(), stddev(), quartiles"
   ]
  },
  {
   "cell_type": "code",
   "execution_count": 126,
   "id": "d00eaf1f",
   "metadata": {},
   "outputs": [
    {
     "name": "stdout",
     "output_type": "stream",
     "text": [
      "+----+\n",
      "|mean|\n",
      "+----+\n",
      "|11.0|\n",
      "+----+\n",
      "\n"
     ]
    }
   ],
   "source": [
    "flights_df1.select(round(mean(col('DepDelay'))).alias('mean')).show()"
   ]
  },
  {
   "cell_type": "code",
   "execution_count": 127,
   "id": "2374efce",
   "metadata": {},
   "outputs": [
    {
     "name": "stdout",
     "output_type": "stream",
     "text": [
      "+------+\n",
      "|   Std|\n",
      "+------+\n",
      "|36.198|\n",
      "+------+\n",
      "\n"
     ]
    }
   ],
   "source": [
    "flights_df1.select(round(stddev(col('DepDelay')),3).alias('Std')).show()"
   ]
  },
  {
   "cell_type": "code",
   "execution_count": 128,
   "id": "b5356108",
   "metadata": {},
   "outputs": [
    {
     "name": "stdout",
     "output_type": "stream",
     "text": [
      "+--------+\n",
      "|variance|\n",
      "+--------+\n",
      "|1310.318|\n",
      "+--------+\n",
      "\n"
     ]
    }
   ],
   "source": [
    "flights_df1.select(round(variance(col('DepDelay')),3).alias('variance')).show()"
   ]
  },
  {
   "cell_type": "code",
   "execution_count": null,
   "id": "c2cf5a47",
   "metadata": {},
   "outputs": [],
   "source": [
    "flights_df1.select(round(variance(col('DepDelay')),3).alias('variance')).show()"
   ]
  },
  {
   "cell_type": "markdown",
   "id": "0c0d8eb7",
   "metadata": {},
   "source": [
    "### To calculate median() - use approxQuantile(), exp()"
   ]
  },
  {
   "cell_type": "code",
   "execution_count": 161,
   "id": "0f2cfced",
   "metadata": {},
   "outputs": [
    {
     "ename": "TypeError",
     "evalue": "int() argument must be a string, a bytes-like object or a number, not 'Column'",
     "output_type": "error",
     "traceback": [
      "\u001b[0;31m---------------------------------------------------------------------------\u001b[0m",
      "\u001b[0;31mTypeError\u001b[0m                                 Traceback (most recent call last)",
      "\u001b[0;32m<ipython-input-161-ac146c2c8370>\u001b[0m in \u001b[0;36m<module>\u001b[0;34m\u001b[0m\n\u001b[1;32m      1\u001b[0m \u001b[0;31m# flights_df3.approxQuantile('ArrDelay',[0.5],0.0001)\u001b[0m\u001b[0;34m\u001b[0m\u001b[0;34m\u001b[0m\u001b[0;34m\u001b[0m\u001b[0m\n\u001b[0;32m----> 2\u001b[0;31m \u001b[0mflights_df1\u001b[0m\u001b[0;34m.\u001b[0m\u001b[0mwithColumn\u001b[0m\u001b[0;34m(\u001b[0m\u001b[0;34m\"test\"\u001b[0m\u001b[0;34m,\u001b[0m \u001b[0mint\u001b[0m\u001b[0;34m(\u001b[0m\u001b[0mcol\u001b[0m\u001b[0;34m(\u001b[0m\u001b[0;34m\"ArrDelay\"\u001b[0m\u001b[0;34m)\u001b[0m\u001b[0;34m)\u001b[0m\u001b[0;34m)\u001b[0m\u001b[0;34m.\u001b[0m\u001b[0mshow\u001b[0m\u001b[0;34m(\u001b[0m\u001b[0;34m)\u001b[0m\u001b[0;34m\u001b[0m\u001b[0;34m\u001b[0m\u001b[0m\n\u001b[0m",
      "\u001b[0;31mTypeError\u001b[0m: int() argument must be a string, a bytes-like object or a number, not 'Column'"
     ]
    }
   ],
   "source": [
    "flights_df3.approxQuantile('ArrDelay',[0.5],0.0001)\n",
    "# flights_df1.withColumn(\"test\", col(\"ArrDelay\")).show()"
   ]
  },
  {
   "cell_type": "code",
   "execution_count": 141,
   "id": "9f5a5a28",
   "metadata": {},
   "outputs": [
    {
     "data": {
      "text/plain": [
       "11.0"
      ]
     },
     "execution_count": 141,
     "metadata": {},
     "output_type": "execute_result"
    }
   ],
   "source": [
    "flights_df1.select(round(mean(col('DepDelay'))).alias('DepDelay_Mean')).collect()[0][0]"
   ]
  },
  {
   "cell_type": "markdown",
   "id": "e720dc93",
   "metadata": {},
   "source": [
    "### 19. GroupBy() and agg()"
   ]
  },
  {
   "cell_type": "code",
   "execution_count": 147,
   "id": "5cc9ddd6",
   "metadata": {},
   "outputs": [
    {
     "name": "stdout",
     "output_type": "stream",
     "text": [
      "+-------+------------------+--------------------+\n",
      "|Carrier|    Dep_Delay_Mean|      Arr_Delay_Mean|\n",
      "+-------+------------------+--------------------+\n",
      "|     UA|12.644186783024843|   5.207155029152466|\n",
      "|     AA|12.154096505870111|    7.22786703097812|\n",
      "|     EV| 14.52813602113455|  10.501436641191532|\n",
      "|     B6|12.675216069471794|   9.679335778153199|\n",
      "|     DL| 7.451940716867138|  2.8085929091567747|\n",
      "|     OO| 7.954327121364983|   6.447766785619039|\n",
      "|     F9|12.142480802645592|  12.870312237233028|\n",
      "|     YV| 9.595018289496604|   8.749505833107245|\n",
      "|     US| 5.011879623272143|   3.957719324788726|\n",
      "|     MQ|15.612577198673192|   14.27679662028746|\n",
      "|     HA|1.5358414704192993|   1.534325271442523|\n",
      "|     AS|0.6606730403765751|-0.27272328542814955|\n",
      "|     FL|10.227206113831024|   7.277437501357486|\n",
      "|     VX|14.416962353959326|   9.678802215555043|\n",
      "|     WN|12.930658050935614|   8.368672739670938|\n",
      "|     9E| 9.767838809034908|   4.931550031523011|\n",
      "+-------+------------------+--------------------+\n",
      "\n"
     ]
    }
   ],
   "source": [
    "flights_df1.groupBy('Carrier').agg(mean('DepDelay').alias('Dep_Delay_Mean'),mean('ArrDelay').alias('Arr_Delay_Mean')).show()"
   ]
  },
  {
   "cell_type": "markdown",
   "id": "e7f80d9e",
   "metadata": {},
   "source": [
    "### 20. WithColumn\n",
    "- All column operations - used to create a new column or modify an existing column in a DataFrame.\n",
    "- withColumn is also used for applying transformation or calculation\n",
    "- df.withColumn(colName, col)\n"
   ]
  },
  {
   "cell_type": "code",
   "execution_count": 148,
   "id": "1f7adc00",
   "metadata": {},
   "outputs": [
    {
     "name": "stdout",
     "output_type": "stream",
     "text": [
      "+----------+---------+-------+---------------+-------------+--------+--------+----------+\n",
      "|DayofMonth|DayOfWeek|Carrier|OriginAirportID|DestAirportID|DepDelay|ArrDelay|TotalDelay|\n",
      "+----------+---------+-------+---------------+-------------+--------+--------+----------+\n",
      "|         1|        1|     WN|          10821|        10140|     138|     133|     271.0|\n",
      "|        13|        1|     OO|          12266|        10140|       3|       5|       8.0|\n",
      "|        15|        1|     YV|          14107|        10140|      -2|      -3|      -5.0|\n",
      "|        15|        1|     WN|          14679|        10140|      11|       4|      15.0|\n",
      "|        17|        1|     WN|          10821|        10140|      78|      87|     165.0|\n",
      "|        22|        1|     WN|          12892|        10140|      15|       5|      20.0|\n",
      "|        27|        1|     AA|          11298|        10140|      22|      32|      54.0|\n",
      "|        11|        2|     WN|          12191|        10140|      11|      -2|       9.0|\n",
      "|        14|        2|     OO|          14771|        10140|      -9|     -10|     -19.0|\n",
      "|         2|        2|     WN|          11292|        10140|      26|       6|      32.0|\n",
      "|         2|        2|     WN|          12191|        10140|       9|      14|      23.0|\n",
      "|        25|        2|     WN|          12892|        10140|      -1|     -10|     -11.0|\n",
      "|         7|        2|     WN|          12889|        10140|      -4|      -3|      -7.0|\n",
      "|         9|        2|     WN|          12889|        10140|      78|      75|     153.0|\n",
      "|        22|        3|     WN|          13796|        10140|       9|       1|      10.0|\n",
      "|        13|        4|     WN|          12191|        10140|       7|       2|       9.0|\n",
      "|        16|        4|     AA|          11298|        10140|      10|       5|      15.0|\n",
      "|        18|        4|     WN|          12191|        10140|    null|    null|      null|\n",
      "|        18|        4|     WN|          14107|        10140|      -2|      15|      13.0|\n",
      "|        18|        4|     WN|          14747|        10140|       0|      -7|      -7.0|\n",
      "+----------+---------+-------+---------------+-------------+--------+--------+----------+\n",
      "only showing top 20 rows\n",
      "\n"
     ]
    }
   ],
   "source": [
    "flights_df1.withColumn(\"TotalDelay\", col(\"DepDelay\") + col(\"ArrDelay\")).show()"
   ]
  },
  {
   "cell_type": "code",
   "execution_count": 151,
   "id": "50bccfe1",
   "metadata": {},
   "outputs": [
    {
     "name": "stdout",
     "output_type": "stream",
     "text": [
      "+----------+---------+-------+---------------+-------------+--------+--------+--------+\n",
      "|DayofMonth|DayOfWeek|Carrier|OriginAirportID|DestAirportID|DepDelay|ArrDelay| isDelay|\n",
      "+----------+---------+-------+---------------+-------------+--------+--------+--------+\n",
      "|         1|        1|     WN|          10821|        10140|     138|     133|   Delay|\n",
      "|        13|        1|     OO|          12266|        10140|       3|       5|   Delay|\n",
      "|        15|        1|     YV|          14107|        10140|      -2|      -3|No Delay|\n",
      "|        15|        1|     WN|          14679|        10140|      11|       4|   Delay|\n",
      "|        17|        1|     WN|          10821|        10140|      78|      87|   Delay|\n",
      "|        22|        1|     WN|          12892|        10140|      15|       5|   Delay|\n",
      "|        27|        1|     AA|          11298|        10140|      22|      32|   Delay|\n",
      "|        11|        2|     WN|          12191|        10140|      11|      -2|   Delay|\n",
      "|        14|        2|     OO|          14771|        10140|      -9|     -10|No Delay|\n",
      "|         2|        2|     WN|          11292|        10140|      26|       6|   Delay|\n",
      "|         2|        2|     WN|          12191|        10140|       9|      14|   Delay|\n",
      "|        25|        2|     WN|          12892|        10140|      -1|     -10|No Delay|\n",
      "|         7|        2|     WN|          12889|        10140|      -4|      -3|No Delay|\n",
      "|         9|        2|     WN|          12889|        10140|      78|      75|   Delay|\n",
      "|        22|        3|     WN|          13796|        10140|       9|       1|   Delay|\n",
      "|        13|        4|     WN|          12191|        10140|       7|       2|   Delay|\n",
      "|        16|        4|     AA|          11298|        10140|      10|       5|   Delay|\n",
      "|        18|        4|     WN|          12191|        10140|    null|    null|No Delay|\n",
      "|        18|        4|     WN|          14107|        10140|      -2|      15|No Delay|\n",
      "|        18|        4|     WN|          14747|        10140|       0|      -7|No Delay|\n",
      "+----------+---------+-------+---------------+-------------+--------+--------+--------+\n",
      "only showing top 20 rows\n",
      "\n"
     ]
    }
   ],
   "source": [
    "flights_df1.withColumn(\"isDelay\", when(col(\"DepDelay\") > 0, \"Delay\").otherwise('No Delay')).show()"
   ]
  },
  {
   "cell_type": "code",
   "execution_count": 162,
   "id": "f4317a9f",
   "metadata": {},
   "outputs": [
    {
     "data": {
      "text/plain": [
       "[Row(median=-3.0)]"
      ]
     },
     "execution_count": 162,
     "metadata": {},
     "output_type": "execute_result"
    }
   ],
   "source": [
    "median_expr = expr(f\"percentile_approx({'ArrDelay'},0.5)\")\n",
    "flights_df1.agg(median_expr.alias(\"median\")).collect()"
   ]
  },
  {
   "cell_type": "code",
   "execution_count": null,
   "id": "70319369",
   "metadata": {},
   "outputs": [],
   "source": []
  }
 ],
 "metadata": {
  "kernelspec": {
   "display_name": "Python 3",
   "language": "python",
   "name": "python3"
  },
  "language_info": {
   "codemirror_mode": {
    "name": "ipython",
    "version": 3
   },
   "file_extension": ".py",
   "mimetype": "text/x-python",
   "name": "python",
   "nbconvert_exporter": "python",
   "pygments_lexer": "ipython3",
   "version": "3.6.9"
  }
 },
 "nbformat": 4,
 "nbformat_minor": 5
}
