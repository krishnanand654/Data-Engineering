{
 "cells": [
  {
   "cell_type": "code",
   "execution_count": 125,
   "id": "46a64aae",
   "metadata": {},
   "outputs": [],
   "source": [
    "# from pyspark import SparkConf, SparkContext\n",
    "# config= SparkConf().setMaster(\"local[*]\").setAppName(\"python optimization\")\n",
    "# sc= SparkContext(conf=config)\n",
    "# # sc.stop()"
   ]
  },
  {
   "cell_type": "code",
   "execution_count": 99,
   "id": "5bb72191",
   "metadata": {},
   "outputs": [
    {
     "ename": "AttributeError",
     "evalue": "'NoneType' object has no attribute 'sc'",
     "output_type": "error",
     "traceback": [
      "\u001b[0;31m---------------------------------------------------------------------------\u001b[0m",
      "\u001b[0;31mAttributeError\u001b[0m                            Traceback (most recent call last)",
      "\u001b[0;32m~/.local/lib/python3.6/site-packages/IPython/core/formatters.py\u001b[0m in \u001b[0;36m__call__\u001b[0;34m(self, obj)\u001b[0m\n\u001b[1;32m    343\u001b[0m             \u001b[0mmethod\u001b[0m \u001b[0;34m=\u001b[0m \u001b[0mget_real_method\u001b[0m\u001b[0;34m(\u001b[0m\u001b[0mobj\u001b[0m\u001b[0;34m,\u001b[0m \u001b[0mself\u001b[0m\u001b[0;34m.\u001b[0m\u001b[0mprint_method\u001b[0m\u001b[0;34m)\u001b[0m\u001b[0;34m\u001b[0m\u001b[0;34m\u001b[0m\u001b[0m\n\u001b[1;32m    344\u001b[0m             \u001b[0;32mif\u001b[0m \u001b[0mmethod\u001b[0m \u001b[0;32mis\u001b[0m \u001b[0;32mnot\u001b[0m \u001b[0;32mNone\u001b[0m\u001b[0;34m:\u001b[0m\u001b[0;34m\u001b[0m\u001b[0;34m\u001b[0m\u001b[0m\n\u001b[0;32m--> 345\u001b[0;31m                 \u001b[0;32mreturn\u001b[0m \u001b[0mmethod\u001b[0m\u001b[0;34m(\u001b[0m\u001b[0;34m)\u001b[0m\u001b[0;34m\u001b[0m\u001b[0;34m\u001b[0m\u001b[0m\n\u001b[0m\u001b[1;32m    346\u001b[0m             \u001b[0;32mreturn\u001b[0m \u001b[0;32mNone\u001b[0m\u001b[0;34m\u001b[0m\u001b[0;34m\u001b[0m\u001b[0m\n\u001b[1;32m    347\u001b[0m         \u001b[0;32melse\u001b[0m\u001b[0;34m:\u001b[0m\u001b[0;34m\u001b[0m\u001b[0;34m\u001b[0m\u001b[0m\n",
      "\u001b[0;32m/usr/local/spark/python/pyspark/context.py\u001b[0m in \u001b[0;36m_repr_html_\u001b[0;34m(self)\u001b[0m\n\u001b[1;32m    297\u001b[0m         \u001b[0;34m<\u001b[0m\u001b[0;34m/\u001b[0m\u001b[0mdiv\u001b[0m\u001b[0;34m>\u001b[0m\u001b[0;34m\u001b[0m\u001b[0;34m\u001b[0m\u001b[0m\n\u001b[1;32m    298\u001b[0m         \"\"\".format(\n\u001b[0;32m--> 299\u001b[0;31m             \u001b[0msc\u001b[0m\u001b[0;34m=\u001b[0m\u001b[0mself\u001b[0m\u001b[0;34m\u001b[0m\u001b[0;34m\u001b[0m\u001b[0m\n\u001b[0m\u001b[1;32m    300\u001b[0m         )\n\u001b[1;32m    301\u001b[0m \u001b[0;34m\u001b[0m\u001b[0m\n",
      "\u001b[0;32m/usr/local/spark/python/pyspark/context.py\u001b[0m in \u001b[0;36muiWebUrl\u001b[0;34m(self)\u001b[0m\n\u001b[1;32m    409\u001b[0m     \u001b[0;32mdef\u001b[0m \u001b[0muiWebUrl\u001b[0m\u001b[0;34m(\u001b[0m\u001b[0mself\u001b[0m\u001b[0;34m)\u001b[0m\u001b[0;34m:\u001b[0m\u001b[0;34m\u001b[0m\u001b[0;34m\u001b[0m\u001b[0m\n\u001b[1;32m    410\u001b[0m         \u001b[0;34m\"\"\"Return the URL of the SparkUI instance started by this SparkContext\"\"\"\u001b[0m\u001b[0;34m\u001b[0m\u001b[0;34m\u001b[0m\u001b[0m\n\u001b[0;32m--> 411\u001b[0;31m         \u001b[0;32mreturn\u001b[0m \u001b[0mself\u001b[0m\u001b[0;34m.\u001b[0m\u001b[0m_jsc\u001b[0m\u001b[0;34m.\u001b[0m\u001b[0msc\u001b[0m\u001b[0;34m(\u001b[0m\u001b[0;34m)\u001b[0m\u001b[0;34m.\u001b[0m\u001b[0muiWebUrl\u001b[0m\u001b[0;34m(\u001b[0m\u001b[0;34m)\u001b[0m\u001b[0;34m.\u001b[0m\u001b[0mget\u001b[0m\u001b[0;34m(\u001b[0m\u001b[0;34m)\u001b[0m\u001b[0;34m\u001b[0m\u001b[0;34m\u001b[0m\u001b[0m\n\u001b[0m\u001b[1;32m    412\u001b[0m \u001b[0;34m\u001b[0m\u001b[0m\n\u001b[1;32m    413\u001b[0m     \u001b[0;34m@\u001b[0m\u001b[0mproperty\u001b[0m\u001b[0;34m\u001b[0m\u001b[0;34m\u001b[0m\u001b[0m\n",
      "\u001b[0;31mAttributeError\u001b[0m: 'NoneType' object has no attribute 'sc'"
     ]
    },
    {
     "data": {
      "text/plain": [
       "<SparkContext master=local[*] appName=PySparkShell>"
      ]
     },
     "execution_count": 99,
     "metadata": {},
     "output_type": "execute_result"
    }
   ],
   "source": [
    "sc"
   ]
  },
  {
   "cell_type": "code",
   "execution_count": 57,
   "id": "dc7c763b",
   "metadata": {},
   "outputs": [
    {
     "data": {
      "text/html": [
       "\n",
       "            <div>\n",
       "                <p><b>SparkSession - hive</b></p>\n",
       "                \n",
       "        <div>\n",
       "            <p><b>SparkContext</b></p>\n",
       "\n",
       "            <p><a href=\"http://10.0.2.15:4040\">Spark UI</a></p>\n",
       "\n",
       "            <dl>\n",
       "              <dt>Version</dt>\n",
       "                <dd><code>v2.4.8</code></dd>\n",
       "              <dt>Master</dt>\n",
       "                <dd><code>local[*]</code></dd>\n",
       "              <dt>AppName</dt>\n",
       "                <dd><code>pyspark serialization</code></dd>\n",
       "            </dl>\n",
       "        </div>\n",
       "        \n",
       "            </div>\n",
       "        "
      ],
      "text/plain": [
       "<pyspark.sql.session.SparkSession at 0x7ffa578d59b0>"
      ]
     },
     "execution_count": 57,
     "metadata": {},
     "output_type": "execute_result"
    }
   ],
   "source": [
    "spark"
   ]
  },
  {
   "cell_type": "code",
   "execution_count": 3,
   "id": "065e5f10",
   "metadata": {},
   "outputs": [],
   "source": [
    "hr_employee = spark.read.csv(\"file:///home/hadoop/Downloads/HR_Employee.csv\", inferSchema = True, header = True)"
   ]
  },
  {
   "cell_type": "code",
   "execution_count": 4,
   "id": "160c4b72",
   "metadata": {},
   "outputs": [
    {
     "name": "stdout",
     "output_type": "stream",
     "text": [
      "root\n",
      " |-- EmployeeID: integer (nullable = true)\n",
      " |-- Department: string (nullable = true)\n",
      " |-- JobRole: string (nullable = true)\n",
      " |-- Attrition: string (nullable = true)\n",
      " |-- Gender: string (nullable = true)\n",
      " |-- Age: integer (nullable = true)\n",
      " |-- MaritalStatus: string (nullable = true)\n",
      " |-- Education: string (nullable = true)\n",
      " |-- EducationField: string (nullable = true)\n",
      " |-- BusinessTravel: string (nullable = true)\n",
      " |-- JobInvolvement: string (nullable = true)\n",
      " |-- JobLevel: integer (nullable = true)\n",
      " |-- JobSatisfaction: string (nullable = true)\n",
      " |-- Hourlyrate: integer (nullable = true)\n",
      " |-- Income: integer (nullable = true)\n",
      " |-- Salaryhike: integer (nullable = true)\n",
      " |-- OverTime: string (nullable = true)\n",
      " |-- Workex: integer (nullable = true)\n",
      " |-- YearsSinceLastPromotion: integer (nullable = true)\n",
      " |-- EmpSatisfaction: string (nullable = true)\n",
      " |-- TrainingTimesLastYear: integer (nullable = true)\n",
      " |-- WorkLifeBalance: string (nullable = true)\n",
      " |-- Performance_Rating: string (nullable = true)\n",
      "\n"
     ]
    }
   ],
   "source": [
    "hr_employee.printSchema()"
   ]
  },
  {
   "cell_type": "markdown",
   "id": "c7fc8c29",
   "metadata": {},
   "source": [
    "#### 1. Big DataFile Types\n",
    "- parquet FileFormat - Records are stored Columnar format, this file format compresses dataset of .csv of structured format into parquet format, parquet format is good for query type of response.\n",
    "- There are other file formats as well like - AVRO, ORC formats"
   ]
  },
  {
   "cell_type": "code",
   "execution_count": 6,
   "id": "5f68e9dc",
   "metadata": {},
   "outputs": [
    {
     "data": {
      "text/plain": [
       "1"
      ]
     },
     "execution_count": 6,
     "metadata": {},
     "output_type": "execute_result"
    }
   ],
   "source": [
    "hr_employee.rdd.getNumPartitions()"
   ]
  },
  {
   "cell_type": "code",
   "execution_count": 7,
   "id": "02a3fa0c",
   "metadata": {},
   "outputs": [],
   "source": [
    "hr_employee.write.parquet('file:///home/hadoop/Downloads/HR_Parquet')"
   ]
  },
  {
   "cell_type": "code",
   "execution_count": 8,
   "id": "c5459a23",
   "metadata": {},
   "outputs": [],
   "source": [
    "hr_employee.write.orc('/HR_Orc')"
   ]
  },
  {
   "cell_type": "code",
   "execution_count": 9,
   "id": "54bef080",
   "metadata": {
    "collapsed": true
   },
   "outputs": [
    {
     "name": "stdout",
     "output_type": "stream",
     "text": [
      "+----------+--------------------+--------------------+---------+------+---+-------------+-------------+--------------+-----------------+--------------+--------+---------------+----------+------+----------+--------+------+-----------------------+---------------+---------------------+---------------+------------------+\n",
      "|EmployeeID|          Department|             JobRole|Attrition|Gender|Age|MaritalStatus|    Education|EducationField|   BusinessTravel|JobInvolvement|JobLevel|JobSatisfaction|Hourlyrate|Income|Salaryhike|OverTime|Workex|YearsSinceLastPromotion|EmpSatisfaction|TrainingTimesLastYear|WorkLifeBalance|Performance_Rating|\n",
      "+----------+--------------------+--------------------+---------+------+---+-------------+-------------+--------------+-----------------+--------------+--------+---------------+----------+------+----------+--------+------+-----------------------+---------------+---------------------+---------------+------------------+\n",
      "|         1|               Sales|     Sales Executive|      Yes|Female| 41|       Single|      College| Life Sciences|    Travel_Rarely|          High|       2|      Very High|        94|  5993|        11|     Yes|     8|                      0|         Medium|                    0|            Bad|         Excellent|\n",
      "|         2|Research & Develo...|  Research Scientist|       No|  Male| 49|      Married|Below College| Life Sciences|Travel_Frequently|        Medium|       2|         Medium|        61|  5130|        23|      No|    10|                      1|           High|                    3|         Better|       Outstanding|\n",
      "|         3|Research & Develo...|Laboratory Techni...|      Yes|  Male| 37|       Single|      College|         Other|    Travel_Rarely|        Medium|       1|           High|        92|  2090|        15|     Yes|     7|                      0|      Very High|                    3|         Better|         Excellent|\n",
      "|         4|Research & Develo...|  Research Scientist|       No|Female| 33|      Married|       Master| Life Sciences|Travel_Frequently|          High|       1|           High|        56|  2909|        11|     Yes|     8|                      3|      Very High|                    3|         Better|         Excellent|\n",
      "|         5|Research & Develo...|Laboratory Techni...|       No|  Male| 27|      Married|Below College|       Medical|    Travel_Rarely|          High|       1|         Medium|        40|  3468|        12|      No|     6|                      2|            Low|                    3|         Better|         Excellent|\n",
      "|         6|Research & Develo...|Laboratory Techni...|       No|  Male| 32|       Single|      College| Life Sciences|Travel_Frequently|          High|       1|      Very High|        79|  3068|        13|      No|     8|                      3|      Very High|                    2|           Good|         Excellent|\n",
      "|         7|Research & Develo...|Laboratory Techni...|       No|Female| 59|      Married|     Bachelor|       Medical|    Travel_Rarely|     Very High|       1|            Low|        81|  2670|        20|     Yes|    12|                      0|           High|                    3|           Good|       Outstanding|\n",
      "|         8|Research & Develo...|Laboratory Techni...|       No|  Male| 30|     Divorced|Below College| Life Sciences|    Travel_Rarely|          High|       1|           High|        67|  2693|        22|      No|     1|                      0|      Very High|                    2|         Better|       Outstanding|\n",
      "|         9|Research & Develo...|Manufacturing Dir...|       No|  Male| 38|       Single|     Bachelor| Life Sciences|Travel_Frequently|        Medium|       3|           High|        44|  9526|        21|      No|    10|                      1|      Very High|                    2|         Better|       Outstanding|\n",
      "|        10|Research & Develo...|Healthcare Repres...|       No|  Male| 36|      Married|     Bachelor|       Medical|    Travel_Rarely|          High|       2|           High|        94|  5237|        13|      No|    17|                      7|           High|                    3|           Good|         Excellent|\n",
      "+----------+--------------------+--------------------+---------+------+---+-------------+-------------+--------------+-----------------+--------------+--------+---------------+----------+------+----------+--------+------+-----------------------+---------------+---------------------+---------------+------------------+\n",
      "only showing top 10 rows\n",
      "\n"
     ]
    }
   ],
   "source": [
    "spark.read.orc('/HR_Orc').show(10)"
   ]
  },
  {
   "cell_type": "markdown",
   "id": "5b95adc2",
   "metadata": {},
   "source": [
    "#### Optmization Techniques\n",
    "- Optimizing Spark jobs can significantly improve performance of spark running queries, spark jobs.\n",
    "2. Paritioning\n",
    "- Partitioning divides data into smaller chunks, which can be processed parallely."
   ]
  },
  {
   "cell_type": "code",
   "execution_count": 10,
   "id": "95778b93",
   "metadata": {},
   "outputs": [
    {
     "data": {
      "text/plain": [
       "1"
      ]
     },
     "execution_count": 10,
     "metadata": {},
     "output_type": "execute_result"
    }
   ],
   "source": [
    "hr_employee.rdd.getNumPartitions()"
   ]
  },
  {
   "cell_type": "code",
   "execution_count": 11,
   "id": "29ed3277",
   "metadata": {},
   "outputs": [],
   "source": [
    "partitioned_df = hr_employee.repartition(3)"
   ]
  },
  {
   "cell_type": "code",
   "execution_count": 12,
   "id": "3415d0f4",
   "metadata": {},
   "outputs": [],
   "source": [
    "partitioned_df.write.parquet(\"/HR_partition\")"
   ]
  },
  {
   "cell_type": "markdown",
   "id": "8897f086",
   "metadata": {},
   "source": [
    "#### 3. Caching & Persistance\n",
    "- Managing Different level of storage"
   ]
  },
  {
   "cell_type": "code",
   "execution_count": 13,
   "id": "7010d52d",
   "metadata": {},
   "outputs": [
    {
     "data": {
      "text/plain": [
       "DataFrame[EmployeeID: int, Department: string, JobRole: string, Attrition: string, Gender: string, Age: int, MaritalStatus: string, Education: string, EducationField: string, BusinessTravel: string, JobInvolvement: string, JobLevel: int, JobSatisfaction: string, Hourlyrate: int, Income: int, Salaryhike: int, OverTime: string, Workex: int, YearsSinceLastPromotion: int, EmpSatisfaction: string, TrainingTimesLastYear: int, WorkLifeBalance: string, Performance_Rating: string]"
      ]
     },
     "execution_count": 13,
     "metadata": {},
     "output_type": "execute_result"
    }
   ],
   "source": [
    "# In-Memory Cache storage\n",
    "hr_employee.cache()"
   ]
  },
  {
   "cell_type": "code",
   "execution_count": 14,
   "id": "e7fa811f",
   "metadata": {},
   "outputs": [],
   "source": [
    "# Persistance of DataFrame with specific type of storage options like - memory only\n",
    "# memory_ser, memory and disk\n",
    "\n",
    "from pyspark import StorageLevel\n",
    "hr_employee1 = hr_employee.persist(StorageLevel.MEMORY_AND_DISK) #Temporary storage"
   ]
  },
  {
   "cell_type": "code",
   "execution_count": 15,
   "id": "9f8d12d1",
   "metadata": {},
   "outputs": [],
   "source": [
    "hr_employee2 = hr_employee.persist(StorageLevel.MEMORY_ONLY_SER) #Temporary storage"
   ]
  },
  {
   "cell_type": "markdown",
   "id": "57ac7b2f",
   "metadata": {},
   "source": [
    "#### 4. Serialization\n",
    "- Efficient serialization reduces time to read write data and transfer it over network.\n",
    "- Kyro Serialization is the popular serialization method for better performance over default java serialization."
   ]
  },
  {
   "cell_type": "markdown",
   "id": "996e6859",
   "metadata": {},
   "source": [
    "### a. Java Serialization:\n",
    "It is default serialization method, Its easy to use but drawback is it will slow down the read, write process"
   ]
  },
  {
   "cell_type": "code",
   "execution_count": 16,
   "id": "41a73b86",
   "metadata": {},
   "outputs": [],
   "source": [
    "from pyspark import SparkContext, SparkConf\n",
    "from pyspark.sql import SparkSession"
   ]
  },
  {
   "cell_type": "code",
   "execution_count": 17,
   "id": "18ef2ff9",
   "metadata": {},
   "outputs": [],
   "source": [
    "spark = SparkSession.builder.appName(\"Java serialization\").getOrCreate()"
   ]
  },
  {
   "cell_type": "code",
   "execution_count": 18,
   "id": "4016f482",
   "metadata": {},
   "outputs": [],
   "source": [
    "spark.stop()"
   ]
  },
  {
   "cell_type": "code",
   "execution_count": 19,
   "id": "c882e627",
   "metadata": {},
   "outputs": [],
   "source": [
    "spark = SparkSession.builder.appName(\"pyspark serialization\")\\\n",
    ".config(\"spark.serializer\", \"org.apache.spark.serializer.JavaSerializer\").getOrCreate()"
   ]
  },
  {
   "cell_type": "code",
   "execution_count": 21,
   "id": "7d6d097a",
   "metadata": {
    "collapsed": true
   },
   "outputs": [
    {
     "data": {
      "text/html": [
       "\n",
       "            <div>\n",
       "                <p><b>SparkSession - hive</b></p>\n",
       "                \n",
       "        <div>\n",
       "            <p><b>SparkContext</b></p>\n",
       "\n",
       "            <p><a href=\"http://10.0.2.15:4040\">Spark UI</a></p>\n",
       "\n",
       "            <dl>\n",
       "              <dt>Version</dt>\n",
       "                <dd><code>v2.4.8</code></dd>\n",
       "              <dt>Master</dt>\n",
       "                <dd><code>local[*]</code></dd>\n",
       "              <dt>AppName</dt>\n",
       "                <dd><code>pyspark serialization</code></dd>\n",
       "            </dl>\n",
       "        </div>\n",
       "        \n",
       "            </div>\n",
       "        "
      ],
      "text/plain": [
       "<pyspark.sql.session.SparkSession at 0x7ffa578d59b0>"
      ]
     },
     "execution_count": 21,
     "metadata": {},
     "output_type": "execute_result"
    }
   ],
   "source": [
    "spark"
   ]
  },
  {
   "cell_type": "markdown",
   "id": "b23dccb9",
   "metadata": {},
   "source": [
    "b) Kyro Serialization: Faster more compact than JavaSerialization"
   ]
  },
  {
   "cell_type": "code",
   "execution_count": 22,
   "id": "25f69b2b",
   "metadata": {},
   "outputs": [],
   "source": [
    "spark = SparkSession.builder\\\n",
    ".config(\"spark.serializer\", \"org.apache.spark.serializer.KyroSerializer\")\\\n",
    ".config(\"spark.kyro.registrationRequired\", \"true\")\\\n",
    ".config(\"spark.kyro.classesToRegister\",\"org.apache.spark.example.Person\")\\\n",
    ".appName(\"Kyro Serialization\").getOrCreate()"
   ]
  },
  {
   "cell_type": "markdown",
   "id": "dc92f3c1",
   "metadata": {},
   "source": [
    "#### 5. Broadcast Joins\n",
    "- Broadcasting small datasets, improve join performance"
   ]
  },
  {
   "cell_type": "code",
   "execution_count": 37,
   "id": "d3cf1b2b",
   "metadata": {},
   "outputs": [],
   "source": [
    "small_df = spark.read.csv(\"file:///home/hadoop/Downloads/airports.csv\", header= True, inferSchema=False)\n",
    "df = spark.read.csv(\"file:///home/hadoop/Downloads/raw_flight_data1.csv\", header= True, inferSchema=False)"
   ]
  },
  {
   "cell_type": "code",
   "execution_count": 38,
   "id": "d0bf765a",
   "metadata": {},
   "outputs": [],
   "source": [
    "from pyspark.sql.functions import broadcast"
   ]
  },
  {
   "cell_type": "code",
   "execution_count": 39,
   "id": "aee810b9",
   "metadata": {},
   "outputs": [],
   "source": [
    "broadcast_df = broadcast(small_df)"
   ]
  },
  {
   "cell_type": "code",
   "execution_count": 40,
   "id": "38747f2b",
   "metadata": {},
   "outputs": [],
   "source": [
    "broadcast_df = broadcast_df.cache()\n",
    "df = df.cache()"
   ]
  },
  {
   "cell_type": "code",
   "execution_count": 42,
   "id": "16f2fbd2",
   "metadata": {
    "collapsed": true
   },
   "outputs": [
    {
     "name": "stdout",
     "output_type": "stream",
     "text": [
      "+----------+-----------+-----+--------------------+\n",
      "|airport_id|       city|state|                name|\n",
      "+----------+-----------+-----+--------------------+\n",
      "|     10165|Adak Island|   AK|                Adak|\n",
      "|     10299|  Anchorage|   AK|Ted Stevens Ancho...|\n",
      "|     10304|      Aniak|   AK|       Aniak Airport|\n",
      "|     10754|     Barrow|   AK|Wiley Post/Will R...|\n",
      "|     10551|     Bethel|   AK|      Bethel Airport|\n",
      "|     10926|    Cordova|   AK|Merle K Mudhole S...|\n",
      "|     14709|  Deadhorse|   AK|   Deadhorse Airport|\n",
      "|     11336| Dillingham|   AK|  Dillingham Airport|\n",
      "|     11630|  Fairbanks|   AK|Fairbanks Interna...|\n",
      "|     11997|   Gustavus|   AK|    Gustavus Airport|\n",
      "+----------+-----------+-----+--------------------+\n",
      "only showing top 10 rows\n",
      "\n"
     ]
    }
   ],
   "source": [
    "broadcast_df.show(10)"
   ]
  },
  {
   "cell_type": "code",
   "execution_count": 44,
   "id": "981707eb",
   "metadata": {},
   "outputs": [],
   "source": [
    "airport_df = df.join(broadcast_df, df.OriginAirportID == broadcast_df.airport_id)"
   ]
  },
  {
   "cell_type": "code",
   "execution_count": 45,
   "id": "0aa6418a",
   "metadata": {
    "collapsed": true
   },
   "outputs": [
    {
     "name": "stdout",
     "output_type": "stream",
     "text": [
      "+----------+---------+-------+---------------+-------------+--------+--------+----------+--------------+-----+--------------------+\n",
      "|DayofMonth|DayOfWeek|Carrier|OriginAirportID|DestAirportID|DepDelay|ArrDelay|airport_id|          city|state|                name|\n",
      "+----------+---------+-------+---------------+-------------+--------+--------+----------+--------------+-----+--------------------+\n",
      "|        19|        5|     DL|          11433|        13303|      -3|       1|     11433|       Detroit|   MI|Detroit Metro Way...|\n",
      "|        19|        5|     DL|          14869|        12478|       0|      -8|     14869|Salt Lake City|   UT|Salt Lake City In...|\n",
      "+----------+---------+-------+---------------+-------------+--------+--------+----------+--------------+-----+--------------------+\n",
      "only showing top 2 rows\n",
      "\n"
     ]
    }
   ],
   "source": [
    "airport_df.show(2)"
   ]
  },
  {
   "cell_type": "markdown",
   "id": "a98cd0a6",
   "metadata": {},
   "source": [
    "#### 6. Level of parallelism"
   ]
  },
  {
   "cell_type": "code",
   "execution_count": 46,
   "id": "965b8489",
   "metadata": {},
   "outputs": [],
   "source": [
    "# Adjust level of parallelism based on your cluster size\n",
    "spark.conf.set(\"spark.default.parallelism\",100)"
   ]
  },
  {
   "cell_type": "markdown",
   "id": "bba4daae",
   "metadata": {},
   "source": [
    "#### 7. Avoid GroupByKey\n",
    "- Use ReduceByKey or aggregateByKey() instead of GroupByKey() to reduce number of shuffling"
   ]
  },
  {
   "cell_type": "code",
   "execution_count": 58,
   "id": "8b5afd50",
   "metadata": {
    "collapsed": true
   },
   "outputs": [
    {
     "data": {
      "text/plain": [
       "[('dosa', 2), ('coffee', 5), ('idly', 3), ('vada', 6), ('rice', 1)]"
      ]
     },
     "execution_count": 58,
     "metadata": {},
     "output_type": "execute_result"
    }
   ],
   "source": [
    "rdd = spark.sparkContext.parallelize([('dosa',2),('coffee',3), ('idly',3), ('vada',5), ('rice',1), ('coffee',2), ('vada',1)])\n",
    "rdd.groupByKey().mapValues(sum).collect()"
   ]
  },
  {
   "cell_type": "code",
   "execution_count": 54,
   "id": "31c19ef6",
   "metadata": {
    "collapsed": true
   },
   "outputs": [
    {
     "data": {
      "text/plain": [
       "[('dosa', 2), ('coffee', 5), ('idly', 3), ('vada', 6), ('rice', 1)]"
      ]
     },
     "execution_count": 54,
     "metadata": {},
     "output_type": "execute_result"
    }
   ],
   "source": [
    "rdd.reduceByKey(lambda x, y : x+y).collect()"
   ]
  },
  {
   "cell_type": "code",
   "execution_count": 67,
   "id": "8886efe0",
   "metadata": {
    "collapsed": true
   },
   "outputs": [
    {
     "name": "stdout",
     "output_type": "stream",
     "text": [
      "+------+-----------+\n",
      "| order|Total Value|\n",
      "+------+-----------+\n",
      "|  vada|          6|\n",
      "|  dosa|          2|\n",
      "|  idly|          3|\n",
      "|  rice|          1|\n",
      "|coffee|          5|\n",
      "+------+-----------+\n",
      "\n"
     ]
    }
   ],
   "source": [
    "from pyspark.sql.functions import *\n",
    "df = spark.createDataFrame([('dosa',2),('coffee',3), ('idly',3), ('vada',5), ('rice',1), ('coffee',2), ('vada',1)], ['order','value'])\n",
    "\n",
    "x = df.groupBy(\"order\").agg(sum(\"value\").alias(\"Total Value\"))\n",
    "x.show()"
   ]
  },
  {
   "cell_type": "code",
   "execution_count": 68,
   "id": "5f8b6eed",
   "metadata": {
    "collapsed": true
   },
   "outputs": [
    {
     "data": {
      "text/plain": [
       "[('dosa', 2), ('coffee', 5), ('idly', 3), ('vada', 6), ('rice', 1)]"
      ]
     },
     "execution_count": 68,
     "metadata": {},
     "output_type": "execute_result"
    }
   ],
   "source": [
    "df.rdd.reduceByKey(lambda x, y : x+y).collect()"
   ]
  },
  {
   "cell_type": "markdown",
   "id": "1cc913b5",
   "metadata": {},
   "source": [
    "#### 8. Reduce shuffle\n",
    "- Reduce the no.of shuffles by optimizing transformations\n",
    "- use reduceByKey over groupByKey()\n",
    "- use Map() and reduce() over groupBy()"
   ]
  },
  {
   "cell_type": "markdown",
   "id": "92c524e7",
   "metadata": {},
   "source": [
    "#### 9. Repartition() and Coalesce()"
   ]
  },
  {
   "cell_type": "markdown",
   "id": "b85497b5",
   "metadata": {},
   "source": [
    "#### 10. Accumulators\n",
    "- use Accumulators for optimizing aggregate information like count(), sum(). Across all executors parallely executing tasks in multiple worker nodes\n",
    "- Accumulator in spark are variables that can be added through cummulative operations."
   ]
  },
  {
   "cell_type": "code",
   "execution_count": 118,
   "id": "ddb4ce2c",
   "metadata": {},
   "outputs": [],
   "source": [
    "acc = spark.sparkContext.accumulator(0)"
   ]
  },
  {
   "cell_type": "code",
   "execution_count": 119,
   "id": "99d56adb",
   "metadata": {},
   "outputs": [
    {
     "data": {
      "text/plain": [
       "pyspark.accumulators.Accumulator"
      ]
     },
     "execution_count": 119,
     "metadata": {},
     "output_type": "execute_result"
    }
   ],
   "source": [
    "type(acc)"
   ]
  },
  {
   "cell_type": "code",
   "execution_count": 120,
   "id": "85f587a5",
   "metadata": {},
   "outputs": [],
   "source": [
    "rdd = spark.sparkContext.parallelize([1,2,3,4,5,6,7,8,9])\n"
   ]
  },
  {
   "cell_type": "code",
   "execution_count": 121,
   "id": "ec335754",
   "metadata": {},
   "outputs": [],
   "source": [
    "# python udf\n",
    "def add(x):\n",
    "    acc.add(x) "
   ]
  },
  {
   "cell_type": "code",
   "execution_count": 122,
   "id": "38516203",
   "metadata": {},
   "outputs": [],
   "source": [
    "rdd.foreach(add)"
   ]
  },
  {
   "cell_type": "code",
   "execution_count": 123,
   "id": "ede11be4",
   "metadata": {},
   "outputs": [
    {
     "name": "stdout",
     "output_type": "stream",
     "text": [
      "45\n"
     ]
    }
   ],
   "source": [
    "print(acc.value)"
   ]
  },
  {
   "cell_type": "code",
   "execution_count": 112,
   "id": "d070c5dc",
   "metadata": {},
   "outputs": [],
   "source": [
    "def counter(x):\n",
    "    acc.add(1)\n",
    "    return x"
   ]
  },
  {
   "cell_type": "code",
   "execution_count": 113,
   "id": "2a163a7d",
   "metadata": {},
   "outputs": [
    {
     "data": {
      "text/plain": [
       "9"
      ]
     },
     "execution_count": 113,
     "metadata": {},
     "output_type": "execute_result"
    }
   ],
   "source": [
    "rdd.map(counter).count()"
   ]
  },
  {
   "cell_type": "markdown",
   "id": "05690dea",
   "metadata": {},
   "source": [
    "#### 11. Bucketing\n",
    "- Use Bucketing to create buckets of large datasets for efficient query and joins"
   ]
  },
  {
   "cell_type": "code",
   "execution_count": null,
   "id": "f8fcadf2",
   "metadata": {},
   "outputs": [],
   "source": []
  }
 ],
 "metadata": {
  "kernelspec": {
   "display_name": "Python 3",
   "language": "python",
   "name": "python3"
  },
  "language_info": {
   "codemirror_mode": {
    "name": "ipython",
    "version": 3
   },
   "file_extension": ".py",
   "mimetype": "text/x-python",
   "name": "python",
   "nbconvert_exporter": "python",
   "pygments_lexer": "ipython3",
   "version": "3.6.9"
  }
 },
 "nbformat": 4,
 "nbformat_minor": 5
}
