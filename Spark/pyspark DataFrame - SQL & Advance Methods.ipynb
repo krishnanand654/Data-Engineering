{
 "cells": [
  {
   "cell_type": "code",
   "execution_count": 1,
   "id": "2f8d28d0",
   "metadata": {},
   "outputs": [
    {
     "data": {
      "text/html": [
       "\n",
       "        <div>\n",
       "            <p><b>SparkContext</b></p>\n",
       "\n",
       "            <p><a href=\"http://10.0.2.15:4040\">Spark UI</a></p>\n",
       "\n",
       "            <dl>\n",
       "              <dt>Version</dt>\n",
       "                <dd><code>v2.4.8</code></dd>\n",
       "              <dt>Master</dt>\n",
       "                <dd><code>local[*]</code></dd>\n",
       "              <dt>AppName</dt>\n",
       "                <dd><code>PySparkShell</code></dd>\n",
       "            </dl>\n",
       "        </div>\n",
       "        "
      ],
      "text/plain": [
       "<SparkContext master=local[*] appName=PySparkShell>"
      ]
     },
     "execution_count": 1,
     "metadata": {},
     "output_type": "execute_result"
    }
   ],
   "source": [
    "sc"
   ]
  },
  {
   "cell_type": "code",
   "execution_count": 2,
   "id": "d35ccee2",
   "metadata": {},
   "outputs": [
    {
     "data": {
      "text/html": [
       "\n",
       "            <div>\n",
       "                <p><b>SparkSession - hive</b></p>\n",
       "                \n",
       "        <div>\n",
       "            <p><b>SparkContext</b></p>\n",
       "\n",
       "            <p><a href=\"http://10.0.2.15:4040\">Spark UI</a></p>\n",
       "\n",
       "            <dl>\n",
       "              <dt>Version</dt>\n",
       "                <dd><code>v2.4.8</code></dd>\n",
       "              <dt>Master</dt>\n",
       "                <dd><code>local[*]</code></dd>\n",
       "              <dt>AppName</dt>\n",
       "                <dd><code>PySparkShell</code></dd>\n",
       "            </dl>\n",
       "        </div>\n",
       "        \n",
       "            </div>\n",
       "        "
      ],
      "text/plain": [
       "<pyspark.sql.session.SparkSession at 0x7fc75b1dbfd0>"
      ]
     },
     "execution_count": 2,
     "metadata": {},
     "output_type": "execute_result"
    }
   ],
   "source": [
    "spark"
   ]
  },
  {
   "cell_type": "code",
   "execution_count": 3,
   "id": "15f1696a",
   "metadata": {},
   "outputs": [],
   "source": [
    "people_df = spark.read.json(\"file:///home/hadoop/Downloads/People.json\")"
   ]
  },
  {
   "cell_type": "code",
   "execution_count": 4,
   "id": "b7f96534",
   "metadata": {},
   "outputs": [
    {
     "name": "stdout",
     "output_type": "stream",
     "text": [
      "+---------+-----------+----------+------+---+---------+------+\n",
      "|     city|    country|first_name|gender| id|last_name|salary|\n",
      "+---------+-----------+----------+------+---+---------+------+\n",
      "|Mulyosari|  Indonesia|     Valma|Female|  1|     Sans|983107|\n",
      "|  Niihama|      Japan|     Paolo|  Male|  2|   Kiddie|649173|\n",
      "|Dū Qal‘ah|Afghanistan|    Miltie|  Male|  3| De Zuani|352898|\n",
      "|   Iberia|       Peru|    Jarrid|  Male|  4| Dalziell|170398|\n",
      "| La Ronge|     Canada| Reinaldos|  Male|  5|   Keeffe|440989|\n",
      "+---------+-----------+----------+------+---+---------+------+\n",
      "only showing top 5 rows\n",
      "\n"
     ]
    }
   ],
   "source": [
    "people_df.show(5)"
   ]
  },
  {
   "cell_type": "code",
   "execution_count": 5,
   "id": "13f520ff",
   "metadata": {},
   "outputs": [
    {
     "name": "stdout",
     "output_type": "stream",
     "text": [
      "root\n",
      " |-- city: string (nullable = true)\n",
      " |-- country: string (nullable = true)\n",
      " |-- first_name: string (nullable = true)\n",
      " |-- gender: string (nullable = true)\n",
      " |-- id: long (nullable = true)\n",
      " |-- last_name: string (nullable = true)\n",
      " |-- salary: long (nullable = true)\n",
      "\n"
     ]
    }
   ],
   "source": [
    "people_df.printSchema()"
   ]
  },
  {
   "cell_type": "markdown",
   "id": "ab944afa",
   "metadata": {},
   "source": [
    "### Create a user defined schema for fields of DataFrame"
   ]
  },
  {
   "cell_type": "code",
   "execution_count": 6,
   "id": "6ff8541c",
   "metadata": {},
   "outputs": [],
   "source": [
    "from pyspark.sql.functions import *\n",
    "from pyspark.sql.types import *"
   ]
  },
  {
   "cell_type": "code",
   "execution_count": 7,
   "id": "1c56eff2",
   "metadata": {},
   "outputs": [],
   "source": [
    "schema = StructType([\n",
    "    StructField(\"id\", IntegerType(), True),\n",
    "    StructField(\"first_name\", StringType(), True),\n",
    "    StructField(\"last_name\", StringType(), True),\n",
    "    StructField(\"gender\", StringType(), True),\n",
    "    StructField(\"salary\", LongType(), True),\n",
    "    StructField(\"city\", StringType(), True),\n",
    "    StructField(\"country\", StringType(), True)\n",
    "])"
   ]
  },
  {
   "cell_type": "code",
   "execution_count": 8,
   "id": "31419fa5",
   "metadata": {},
   "outputs": [],
   "source": [
    "people_df = spark.read.schema(schema).json(\"file:///home/hadoop/Downloads/People.json\")"
   ]
  },
  {
   "cell_type": "code",
   "execution_count": 9,
   "id": "bf598e59",
   "metadata": {},
   "outputs": [
    {
     "name": "stdout",
     "output_type": "stream",
     "text": [
      "root\n",
      " |-- id: integer (nullable = true)\n",
      " |-- first_name: string (nullable = true)\n",
      " |-- last_name: string (nullable = true)\n",
      " |-- gender: string (nullable = true)\n",
      " |-- salary: long (nullable = true)\n",
      " |-- city: string (nullable = true)\n",
      " |-- country: string (nullable = true)\n",
      "\n"
     ]
    }
   ],
   "source": [
    "people_df.printSchema()"
   ]
  },
  {
   "cell_type": "code",
   "execution_count": 10,
   "id": "edf2a096",
   "metadata": {},
   "outputs": [],
   "source": [
    "bank_data = spark.read.json(\"file:///home/hadoop/Downloads/bank_edited.json\", multiLine=True)\n",
    "#if the data is pretty formatted the contents will be in new line which will cause an error while reading\n",
    "#so multiLine parameter is required to resolve that issue"
   ]
  },
  {
   "cell_type": "code",
   "execution_count": 11,
   "id": "4573252d",
   "metadata": {},
   "outputs": [
    {
     "name": "stdout",
     "output_type": "stream",
     "text": [
      "+---+-------+--------+-------+---+-------+--------+---------+-------+------------+----+--------+-----+-----+--------+--------+---+\n",
      "|age|balance|campaign|contact|day|default|duration|education|housing|         job|loan| marital|month|pdays|poutcome|previous|  y|\n",
      "+---+-------+--------+-------+---+-------+--------+---------+-------+------------+----+--------+-----+-----+--------+--------+---+\n",
      "| 58|   2143|       1|unknown|  5|     no|     261| tertiary|    yes|  management|  no| married|  may|   -1| unknown|       0| no|\n",
      "| 44|     29|       1|unknown|  5|     no|     151|secondary|    yes|  technician|  no|  single|  may|   -1| unknown|       0| no|\n",
      "| 33|      2|       1|unknown|  5|     no|      76|secondary|    yes|entrepreneur| yes| married|  may|   -1| unknown|       0| no|\n",
      "| 47|   1506|       1|unknown|  5|     no|      92|  unknown|    yes| blue-collar|  no| married|  may|   -1| unknown|       0| no|\n",
      "| 33|      1|       1|unknown|  5|     no|     198|  unknown|     no|     unknown|  no|  single|  may|   -1| unknown|       0| no|\n",
      "| 35|    231|       1|unknown|  5|     no|     139| tertiary|    yes|  management|  no| married|  may|   -1| unknown|       0| no|\n",
      "| 28|    447|       1|unknown|  5|     no|     217| tertiary|    yes|  management| yes|  single|  may|   -1| unknown|       0| no|\n",
      "| 42|      2|       1|unknown|  5|    yes|     380| tertiary|    yes|entrepreneur|  no|divorced|  may|   -1| unknown|       0| no|\n",
      "| 58|    121|       1|unknown|  5|     no|      50|  primary|    yes|     retired|  no| married|  may|   -1| unknown|       0| no|\n",
      "| 43|    593|       1|unknown|  5|     no|      55|secondary|    yes|  technician|  no|  single|  may|   -1| unknown|       0| no|\n",
      "| 41|    270|       1|unknown|  5|     no|     222|secondary|    yes|      admin.|  no|divorced|  may|   -1| unknown|       0| no|\n",
      "| 29|    390|       1|unknown|  5|     no|     137|secondary|    yes|      admin.|  no|  single|  may|   -1| unknown|       0| no|\n",
      "| 53|      6|       1|unknown|  5|     no|     517|secondary|    yes|  technician|  no| married|  may|   -1| unknown|       0| no|\n",
      "| 58|     71|       1|unknown|  5|     no|      71|  unknown|    yes|  technician|  no| married|  may|   -1| unknown|       0| no|\n",
      "| 57|    162|       1|unknown|  5|     no|     174|secondary|    yes|    services|  no| married|  may|   -1| unknown|       0| no|\n",
      "| 51|    229|       1|unknown|  5|     no|     353|  primary|    yes|     retired|  no| married|  may|   -1| unknown|       0| no|\n",
      "| 45|     13|       1|unknown|  5|     no|      98|  unknown|    yes|      admin.|  no|  single|  may|   -1| unknown|       0| no|\n",
      "| 57|     52|       1|unknown|  5|     no|      38|  primary|    yes| blue-collar|  no| married|  may|   -1| unknown|       0| no|\n",
      "| 60|     60|       1|unknown|  5|     no|     219|  primary|    yes|     retired|  no| married|  may|   -1| unknown|       0| no|\n",
      "| 33|      0|       1|unknown|  5|     no|      54|secondary|    yes|    services|  no| married|  may|   -1| unknown|       0| no|\n",
      "+---+-------+--------+-------+---+-------+--------+---------+-------+------------+----+--------+-----+-----+--------+--------+---+\n",
      "only showing top 20 rows\n",
      "\n"
     ]
    }
   ],
   "source": [
    "bank_data.show()"
   ]
  },
  {
   "cell_type": "code",
   "execution_count": 12,
   "id": "efd2ef7f",
   "metadata": {},
   "outputs": [
    {
     "name": "stdout",
     "output_type": "stream",
     "text": [
      "root\n",
      " |-- age: long (nullable = true)\n",
      " |-- balance: long (nullable = true)\n",
      " |-- campaign: long (nullable = true)\n",
      " |-- contact: string (nullable = true)\n",
      " |-- day: long (nullable = true)\n",
      " |-- default: string (nullable = true)\n",
      " |-- duration: long (nullable = true)\n",
      " |-- education: string (nullable = true)\n",
      " |-- housing: string (nullable = true)\n",
      " |-- job: string (nullable = true)\n",
      " |-- loan: string (nullable = true)\n",
      " |-- marital: string (nullable = true)\n",
      " |-- month: string (nullable = true)\n",
      " |-- pdays: long (nullable = true)\n",
      " |-- poutcome: string (nullable = true)\n",
      " |-- previous: long (nullable = true)\n",
      " |-- y: string (nullable = true)\n",
      "\n"
     ]
    }
   ],
   "source": [
    "bank_data.printSchema()"
   ]
  },
  {
   "cell_type": "code",
   "execution_count": 13,
   "id": "6f302592",
   "metadata": {},
   "outputs": [],
   "source": [
    "from pyspark.sql.functions import *\n",
    "from pyspark.sql.types import *"
   ]
  },
  {
   "cell_type": "markdown",
   "id": "834a0cce",
   "metadata": {},
   "source": [
    "### 2. Typecast Any one column\n",
    "\n",
    "- Any transformation for individual column will go through withColumn()"
   ]
  },
  {
   "cell_type": "code",
   "execution_count": 14,
   "id": "40fe41d8",
   "metadata": {},
   "outputs": [],
   "source": [
    "bank_data = bank_data.withColumn(\"age\", col(\"age\").cast(IntegerType()))"
   ]
  },
  {
   "cell_type": "code",
   "execution_count": 15,
   "id": "d168dd51",
   "metadata": {},
   "outputs": [
    {
     "name": "stdout",
     "output_type": "stream",
     "text": [
      "root\n",
      " |-- age: integer (nullable = true)\n",
      " |-- balance: long (nullable = true)\n",
      " |-- campaign: long (nullable = true)\n",
      " |-- contact: string (nullable = true)\n",
      " |-- day: long (nullable = true)\n",
      " |-- default: string (nullable = true)\n",
      " |-- duration: long (nullable = true)\n",
      " |-- education: string (nullable = true)\n",
      " |-- housing: string (nullable = true)\n",
      " |-- job: string (nullable = true)\n",
      " |-- loan: string (nullable = true)\n",
      " |-- marital: string (nullable = true)\n",
      " |-- month: string (nullable = true)\n",
      " |-- pdays: long (nullable = true)\n",
      " |-- poutcome: string (nullable = true)\n",
      " |-- previous: long (nullable = true)\n",
      " |-- y: string (nullable = true)\n",
      "\n"
     ]
    }
   ],
   "source": [
    "bank_data.printSchema()"
   ]
  },
  {
   "cell_type": "markdown",
   "id": "7e348843",
   "metadata": {},
   "source": [
    "### 3.Creating new column from two strings"
   ]
  },
  {
   "cell_type": "code",
   "execution_count": 16,
   "id": "98f252ac",
   "metadata": {},
   "outputs": [
    {
     "name": "stdout",
     "output_type": "stream",
     "text": [
      "+---+----------+---------+------+------+------------------+------------+-----------------+\n",
      "| id|first_name|last_name|gender|salary|              city|     country|        Full_Name|\n",
      "+---+----------+---------+------+------+------------------+------------+-----------------+\n",
      "|  1|     Valma|     Sans|Female|983107|         Mulyosari|   Indonesia|       Valma Sans|\n",
      "|  2|     Paolo|   Kiddie|  Male|649173|           Niihama|       Japan|     Paolo Kiddie|\n",
      "|  3|    Miltie| De Zuani|  Male|352898|         Dū Qal‘ah| Afghanistan|  Miltie De Zuani|\n",
      "|  4|    Jarrid| Dalziell|  Male|170398|            Iberia|        Peru|  Jarrid Dalziell|\n",
      "|  5| Reinaldos|   Keeffe|  Male|440989|          La Ronge|      Canada| Reinaldos Keeffe|\n",
      "|  6|        Eb|Schwanden|  Male|274126|      Kuala Lumpur|    Malaysia|     Eb Schwanden|\n",
      "|  7|    Alleyn|   Paddon|  Male|681914|         Al Qurayn|Saudi Arabia|    Alleyn Paddon|\n",
      "|  8|   Baryram|     Yell|  Male|250748|           Jixiang|       China|     Baryram Yell|\n",
      "|  9|     Cammy|     Axel|Female|221750|Thị Trấn Phong Thổ|     Vietnam|       Cammy Axel|\n",
      "| 10|       Erl|  Caldera|  Male|680801|        Kotatengah|   Indonesia|      Erl Caldera|\n",
      "| 11|    Miguel|   Moules|  Male|819771|        Roldanillo|    Colombia|    Miguel Moules|\n",
      "| 12| Mireielle|   Hurley|Female|486029|            Malārd|        Iran| Mireielle Hurley|\n",
      "| 13|    Feodor| Grummitt|  Male|358045|     Fada N'gourma|Burkina Faso|  Feodor Grummitt|\n",
      "| 14|     Diana|  Lawfull|Female|397683|           Ciangir|   Indonesia|    Diana Lawfull|\n",
      "| 15|      Evie|   Kaysor|Female|436202|         El Cantón|   Venezuela|      Evie Kaysor|\n",
      "| 16|    Janean|    Sayse|Female|892405|          La Unión|    Colombia|     Janean Sayse|\n",
      "| 17|     Colan|   Stoppe|  Male|218434|            Xinhua|       China|     Colan Stoppe|\n",
      "| 18|      Erik| Stitcher|  Male|776023|     Крива Паланка|   Macedonia|    Erik Stitcher|\n",
      "| 19|   Sargent|   Cleall|  Male|819269|          Qīr Moāv|      Jordan|   Sargent Cleall|\n",
      "| 20|   Tamqrah|Millichip|Female|313540|      Bogandinskiy|      Russia|Tamqrah Millichip|\n",
      "+---+----------+---------+------+------+------------------+------------+-----------------+\n",
      "only showing top 20 rows\n",
      "\n"
     ]
    }
   ],
   "source": [
    "from pyspark.sql.functions import concat\n",
    "\n",
    "people_df.withColumn(\"Full_Name\", concat(col(\"first_name\"),lit(\" \"),col(\"last_name\"))).show()"
   ]
  },
  {
   "cell_type": "markdown",
   "id": "185a07f9",
   "metadata": {},
   "source": [
    "### 4. Renaming a column"
   ]
  },
  {
   "cell_type": "code",
   "execution_count": 17,
   "id": "4d46c3ff",
   "metadata": {},
   "outputs": [],
   "source": [
    "people_df = people_df.withColumnRenamed(\"salary\", \"income\")"
   ]
  },
  {
   "cell_type": "code",
   "execution_count": 18,
   "id": "ea9b4c22",
   "metadata": {},
   "outputs": [
    {
     "name": "stdout",
     "output_type": "stream",
     "text": [
      "+---+----------+---------+------+------+------------------+------------+\n",
      "| id|first_name|last_name|gender|income|              city|     country|\n",
      "+---+----------+---------+------+------+------------------+------------+\n",
      "|  1|     Valma|     Sans|Female|983107|         Mulyosari|   Indonesia|\n",
      "|  2|     Paolo|   Kiddie|  Male|649173|           Niihama|       Japan|\n",
      "|  3|    Miltie| De Zuani|  Male|352898|         Dū Qal‘ah| Afghanistan|\n",
      "|  4|    Jarrid| Dalziell|  Male|170398|            Iberia|        Peru|\n",
      "|  5| Reinaldos|   Keeffe|  Male|440989|          La Ronge|      Canada|\n",
      "|  6|        Eb|Schwanden|  Male|274126|      Kuala Lumpur|    Malaysia|\n",
      "|  7|    Alleyn|   Paddon|  Male|681914|         Al Qurayn|Saudi Arabia|\n",
      "|  8|   Baryram|     Yell|  Male|250748|           Jixiang|       China|\n",
      "|  9|     Cammy|     Axel|Female|221750|Thị Trấn Phong Thổ|     Vietnam|\n",
      "| 10|       Erl|  Caldera|  Male|680801|        Kotatengah|   Indonesia|\n",
      "| 11|    Miguel|   Moules|  Male|819771|        Roldanillo|    Colombia|\n",
      "| 12| Mireielle|   Hurley|Female|486029|            Malārd|        Iran|\n",
      "| 13|    Feodor| Grummitt|  Male|358045|     Fada N'gourma|Burkina Faso|\n",
      "| 14|     Diana|  Lawfull|Female|397683|           Ciangir|   Indonesia|\n",
      "| 15|      Evie|   Kaysor|Female|436202|         El Cantón|   Venezuela|\n",
      "| 16|    Janean|    Sayse|Female|892405|          La Unión|    Colombia|\n",
      "| 17|     Colan|   Stoppe|  Male|218434|            Xinhua|       China|\n",
      "| 18|      Erik| Stitcher|  Male|776023|     Крива Паланка|   Macedonia|\n",
      "| 19|   Sargent|   Cleall|  Male|819269|          Qīr Moāv|      Jordan|\n",
      "| 20|   Tamqrah|Millichip|Female|313540|      Bogandinskiy|      Russia|\n",
      "+---+----------+---------+------+------+------------------+------------+\n",
      "only showing top 20 rows\n",
      "\n"
     ]
    }
   ],
   "source": [
    "people_df.show()"
   ]
  },
  {
   "cell_type": "markdown",
   "id": "dff33d0b",
   "metadata": {},
   "source": [
    "### 5.Limit()"
   ]
  },
  {
   "cell_type": "code",
   "execution_count": 19,
   "id": "d21db990",
   "metadata": {},
   "outputs": [
    {
     "name": "stdout",
     "output_type": "stream",
     "text": [
      "+---+----------+---------+------+------+---------+-----------+\n",
      "| id|first_name|last_name|gender|income|     city|    country|\n",
      "+---+----------+---------+------+------+---------+-----------+\n",
      "|  1|     Valma|     Sans|Female|983107|Mulyosari|  Indonesia|\n",
      "|  2|     Paolo|   Kiddie|  Male|649173|  Niihama|      Japan|\n",
      "|  3|    Miltie| De Zuani|  Male|352898|Dū Qal‘ah|Afghanistan|\n",
      "|  4|    Jarrid| Dalziell|  Male|170398|   Iberia|       Peru|\n",
      "|  5| Reinaldos|   Keeffe|  Male|440989| La Ronge|     Canada|\n",
      "+---+----------+---------+------+------+---------+-----------+\n",
      "\n"
     ]
    }
   ],
   "source": [
    "people_df.limit(5).show()"
   ]
  },
  {
   "cell_type": "markdown",
   "id": "01e08b78",
   "metadata": {},
   "source": [
    "### 6. OrderBy()\n",
    "\n",
    "- Arrange Data in ascending & descending order"
   ]
  },
  {
   "cell_type": "code",
   "execution_count": 20,
   "id": "06b05889",
   "metadata": {},
   "outputs": [
    {
     "name": "stdout",
     "output_type": "stream",
     "text": [
      "+---+----------+----------+------+------+---------------+-----------+\n",
      "| id|first_name| last_name|gender|income|           city|    country|\n",
      "+---+----------+----------+------+------+---------------+-----------+\n",
      "|812|      Ebba|   Brandom|Female|996994|    Dhromolaxia|     Cyprus|\n",
      "|689|  Harriott|Strathearn|Female|995400|          Taiba|      China|\n",
      "|158|   Evelina|      Ibbs|Female|995388| Kotawaikabubak|  Indonesia|\n",
      "|770|     Ruthe|      Brun|Female|992992|        Xintian|      China|\n",
      "|131|     Harri|     Raper|Female|989626|        Hujigou|      China|\n",
      "|872|     Rycca|     Maund|Female|987858|           Azul|  Argentina|\n",
      "| 82| Hollyanne|  Heberden|Female|985194|        Citeguh|  Indonesia|\n",
      "|376|     Kylie|Grigorescu|Female|984966|        La Vega|   Colombia|\n",
      "|503|    Billye|  Rappport|Female|984735|      Nerópolis|     Brazil|\n",
      "| 77|     Ailyn|    Palmar|Female|984515|   Lonpao Dajah|  Indonesia|\n",
      "|  1|     Valma|      Sans|Female|983107|      Mulyosari|  Indonesia|\n",
      "|490|  Cathlene|  Gatfield|Female|981605|        Mīrābād|Afghanistan|\n",
      "|463|   Alberta|   Hakking|Female|980691|Cimanggu Girang|  Indonesia|\n",
      "|276|   Matelda|  McGaugie|Female|980477|     Baru Timur|  Indonesia|\n",
      "|197|    Faythe|  Berriman|Female|975355|         Tralee|    Ireland|\n",
      "|367|   Micaela|    Puddan|Female|973132|          Gulao|      China|\n",
      "|383| Corabelle|  Skeermor|Female|971084|      Herzliyya|     Israel|\n",
      "|744|     Aurie|Starsmeare|Female|969348|            Ubá|     Brazil|\n",
      "|220|      Pooh|    Burrus|Female|966987|       Ban Haet|   Thailand|\n",
      "| 55|   Aundrea|  Lewendon|Female|965272|     Tanahmerah|  Indonesia|\n",
      "+---+----------+----------+------+------+---------------+-----------+\n",
      "only showing top 20 rows\n",
      "\n"
     ]
    }
   ],
   "source": [
    "#sort gender by ascending order and \n",
    "# for the genders being same the income is arranges in descending order\n",
    "people_df.orderBy(['gender','income'], ascending=[True,False]).show()"
   ]
  },
  {
   "cell_type": "markdown",
   "id": "6187fd8c",
   "metadata": {},
   "source": [
    "### Materialized view\n",
    "- createOrReplaceTempView()"
   ]
  },
  {
   "cell_type": "code",
   "execution_count": 21,
   "id": "da93cad5",
   "metadata": {},
   "outputs": [],
   "source": [
    "bank_data.createOrReplaceTempView(\"bankdata_df\")"
   ]
  },
  {
   "cell_type": "code",
   "execution_count": 23,
   "id": "352c2b46",
   "metadata": {},
   "outputs": [
    {
     "name": "stdout",
     "output_type": "stream",
     "text": [
      "+---+-------+--------+-------+---+-------+--------+---------+-------+------------+----+--------+-----+-----+--------+--------+---+\n",
      "|age|balance|campaign|contact|day|default|duration|education|housing|         job|loan| marital|month|pdays|poutcome|previous|  y|\n",
      "+---+-------+--------+-------+---+-------+--------+---------+-------+------------+----+--------+-----+-----+--------+--------+---+\n",
      "| 58|   2143|       1|unknown|  5|     no|     261| tertiary|    yes|  management|  no| married|  may|   -1| unknown|       0| no|\n",
      "| 44|     29|       1|unknown|  5|     no|     151|secondary|    yes|  technician|  no|  single|  may|   -1| unknown|       0| no|\n",
      "| 33|      2|       1|unknown|  5|     no|      76|secondary|    yes|entrepreneur| yes| married|  may|   -1| unknown|       0| no|\n",
      "| 47|   1506|       1|unknown|  5|     no|      92|  unknown|    yes| blue-collar|  no| married|  may|   -1| unknown|       0| no|\n",
      "| 33|      1|       1|unknown|  5|     no|     198|  unknown|     no|     unknown|  no|  single|  may|   -1| unknown|       0| no|\n",
      "| 35|    231|       1|unknown|  5|     no|     139| tertiary|    yes|  management|  no| married|  may|   -1| unknown|       0| no|\n",
      "| 28|    447|       1|unknown|  5|     no|     217| tertiary|    yes|  management| yes|  single|  may|   -1| unknown|       0| no|\n",
      "| 42|      2|       1|unknown|  5|    yes|     380| tertiary|    yes|entrepreneur|  no|divorced|  may|   -1| unknown|       0| no|\n",
      "| 58|    121|       1|unknown|  5|     no|      50|  primary|    yes|     retired|  no| married|  may|   -1| unknown|       0| no|\n",
      "| 43|    593|       1|unknown|  5|     no|      55|secondary|    yes|  technician|  no|  single|  may|   -1| unknown|       0| no|\n",
      "| 41|    270|       1|unknown|  5|     no|     222|secondary|    yes|      admin.|  no|divorced|  may|   -1| unknown|       0| no|\n",
      "| 29|    390|       1|unknown|  5|     no|     137|secondary|    yes|      admin.|  no|  single|  may|   -1| unknown|       0| no|\n",
      "| 53|      6|       1|unknown|  5|     no|     517|secondary|    yes|  technician|  no| married|  may|   -1| unknown|       0| no|\n",
      "| 58|     71|       1|unknown|  5|     no|      71|  unknown|    yes|  technician|  no| married|  may|   -1| unknown|       0| no|\n",
      "| 57|    162|       1|unknown|  5|     no|     174|secondary|    yes|    services|  no| married|  may|   -1| unknown|       0| no|\n",
      "| 51|    229|       1|unknown|  5|     no|     353|  primary|    yes|     retired|  no| married|  may|   -1| unknown|       0| no|\n",
      "| 45|     13|       1|unknown|  5|     no|      98|  unknown|    yes|      admin.|  no|  single|  may|   -1| unknown|       0| no|\n",
      "| 57|     52|       1|unknown|  5|     no|      38|  primary|    yes| blue-collar|  no| married|  may|   -1| unknown|       0| no|\n",
      "| 60|     60|       1|unknown|  5|     no|     219|  primary|    yes|     retired|  no| married|  may|   -1| unknown|       0| no|\n",
      "| 33|      0|       1|unknown|  5|     no|      54|secondary|    yes|    services|  no| married|  may|   -1| unknown|       0| no|\n",
      "+---+-------+--------+-------+---+-------+--------+---------+-------+------------+----+--------+-----+-----+--------+--------+---+\n",
      "only showing top 20 rows\n",
      "\n"
     ]
    }
   ],
   "source": [
    "spark.sql(\"select * from bankdata_df\").show()"
   ]
  },
  {
   "cell_type": "code",
   "execution_count": 24,
   "id": "6ca98dfc",
   "metadata": {},
   "outputs": [
    {
     "name": "stdout",
     "output_type": "stream",
     "text": [
      "+--------+\n",
      "|count(1)|\n",
      "+--------+\n",
      "|   45211|\n",
      "+--------+\n",
      "\n"
     ]
    }
   ],
   "source": [
    "spark.sql(\"select count(*) from bankdata_df\").show()"
   ]
  },
  {
   "cell_type": "markdown",
   "id": "b8ba746d",
   "metadata": {},
   "source": [
    "#### Show the top 10 Youngest Employee with Maximum Balance "
   ]
  },
  {
   "cell_type": "code",
   "execution_count": 43,
   "id": "c17801d8",
   "metadata": {},
   "outputs": [
    {
     "name": "stdout",
     "output_type": "stream",
     "text": [
      "+---+------------+\n",
      "|age|max(balance)|\n",
      "+---+------------+\n",
      "| 18|        1944|\n",
      "| 19|        5368|\n",
      "| 20|        8860|\n",
      "| 21|        8278|\n",
      "| 22|       10971|\n",
      "| 23|       19690|\n",
      "| 24|       23878|\n",
      "| 25|       16874|\n",
      "| 26|       24299|\n",
      "| 27|       24025|\n",
      "+---+------------+\n",
      "\n"
     ]
    }
   ],
   "source": [
    "spark.sql(\"select age, MAX(balance) from bankdata_df GROUP BY age ORDER BY age ASC, MAX(balance) DESC\").limit(10).show()"
   ]
  },
  {
   "cell_type": "markdown",
   "id": "58d75528",
   "metadata": {},
   "source": [
    "#### Show the worst 5 Job type having minimum salary"
   ]
  },
  {
   "cell_type": "code",
   "execution_count": 42,
   "id": "ba7eebb3",
   "metadata": {},
   "outputs": [
    {
     "name": "stdout",
     "output_type": "stream",
     "text": [
      "+-------------+--------------+\n",
      "|          job|minimum_salary|\n",
      "+-------------+--------------+\n",
      "|  blue-collar|         -8019|\n",
      "|   management|         -6847|\n",
      "|self-employed|         -3313|\n",
      "|   technician|         -2827|\n",
      "|     services|         -2122|\n",
      "+-------------+--------------+\n",
      "\n"
     ]
    }
   ],
   "source": [
    "spark.sql(\"select job,MIN(balance) as minimum_salary from bankdata_df GROUP BY job ORDER BY MIN(balance) ASC  \").limit(5).show()"
   ]
  },
  {
   "cell_type": "code",
   "execution_count": null,
   "id": "73acf667",
   "metadata": {},
   "outputs": [],
   "source": []
  }
 ],
 "metadata": {
  "kernelspec": {
   "display_name": "Python 3",
   "language": "python",
   "name": "python3"
  },
  "language_info": {
   "codemirror_mode": {
    "name": "ipython",
    "version": 3
   },
   "file_extension": ".py",
   "mimetype": "text/x-python",
   "name": "python",
   "nbconvert_exporter": "python",
   "pygments_lexer": "ipython3",
   "version": "3.6.9"
  }
 },
 "nbformat": 4,
 "nbformat_minor": 5
}
